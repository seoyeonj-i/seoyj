{
 "cells": [
  {
   "cell_type": "markdown",
   "metadata": {},
   "source": [
    "# python에서 제공하는 문자열 내장함수"
   ]
  },
  {
   "cell_type": "code",
   "execution_count": 2,
   "metadata": {},
   "outputs": [
    {
     "name": "stdout",
     "output_type": "stream",
     "text": [
      "5\n",
      "7\n"
     ]
    }
   ],
   "source": [
    "# 문자열의 길이를 출력(공백포함)\n",
    "a='hello'\n",
    "b=' hello '\n",
    "\n",
    "print(len(a))\n",
    "print(len(b))"
   ]
  },
  {
   "cell_type": "code",
   "execution_count": 3,
   "metadata": {},
   "outputs": [
    {
     "name": "stdout",
     "output_type": "stream",
     "text": [
      "HELLO WORLD\n",
      "hello world\n",
      "hELLO WORLD\n",
      "Hello World\n"
     ]
    }
   ],
   "source": [
    "# 문자의 형태를 변환(대,소문자변환)\n",
    "a='Hello world'\n",
    "# 문자를 모두 대문자로 변환\n",
    "print(a.upper())\n",
    "# 문자를 모두 소문자로 변환\n",
    "print(a.lower())\n",
    "# 문자의 대문자를 소문자로 소문자를 대문자로 변환\n",
    "print(a.swapcase())\n",
    "# 단어의 첫글자를 대문자로 변환\n",
    "print(a.title())"
   ]
  },
  {
   "cell_type": "code",
   "execution_count": 4,
   "metadata": {},
   "outputs": [
    {
     "name": "stdout",
     "output_type": "stream",
     "text": [
      "None\n"
     ]
    }
   ],
   "source": [
    "_list=[4,3,2,6]\n",
    "print(_list.sort())"
   ]
  },
  {
   "cell_type": "code",
   "execution_count": 5,
   "metadata": {},
   "outputs": [
    {
     "name": "stdout",
     "output_type": "stream",
     "text": [
      "Hello world\n"
     ]
    }
   ],
   "source": [
    "print(a)"
   ]
  },
  {
   "cell_type": "code",
   "execution_count": 7,
   "metadata": {},
   "outputs": [
    {
     "name": "stdout",
     "output_type": "stream",
     "text": [
      "   Hello world    \n"
     ]
    }
   ],
   "source": [
    "# 문자열 좌우의 공백을 제거하는 함수\n",
    "test_text='   Hello world    '\n",
    "print(test_text)"
   ]
  },
  {
   "cell_type": "code",
   "execution_count": 8,
   "metadata": {},
   "outputs": [
    {
     "data": {
      "text/plain": [
       "'Hello world'"
      ]
     },
     "execution_count": 8,
     "metadata": {},
     "output_type": "execute_result"
    }
   ],
   "source": [
    "# 양쪽의 공백을 모두 제거 : strip()\n",
    "test_text.strip()"
   ]
  },
  {
   "cell_type": "code",
   "execution_count": 10,
   "metadata": {},
   "outputs": [
    {
     "data": {
      "text/plain": [
       "'Hello world    '"
      ]
     },
     "execution_count": 10,
     "metadata": {},
     "output_type": "execute_result"
    }
   ],
   "source": [
    "# 좌측의 공백을 제거 : lstrip()\n",
    "test_text.lstrip()"
   ]
  },
  {
   "cell_type": "code",
   "execution_count": 11,
   "metadata": {},
   "outputs": [
    {
     "data": {
      "text/plain": [
       "'   Hello world'"
      ]
     },
     "execution_count": 11,
     "metadata": {},
     "output_type": "execute_result"
    }
   ],
   "source": [
    "# 우측의 공백을 제거 : rstrip()\n",
    "test_text.rstrip()"
   ]
  },
  {
   "cell_type": "code",
   "execution_count": 14,
   "metadata": {},
   "outputs": [
    {
     "name": "stdout",
     "output_type": "stream",
     "text": [
      "<class 'str'>\n",
      "$100\n",
      "100\n",
      "<class 'str'>\n",
      "100\n",
      "<class 'int'>\n"
     ]
    }
   ],
   "source": [
    "# 문자 형식을 숫자 형식으로 변환\n",
    "test='$100'\n",
    "print(type(test))\n",
    "\n",
    "print(test)\n",
    "test=test.lstrip('$')\n",
    "print(test)\n",
    "print(type(test))\n",
    "test=int(test)\n",
    "print(test)\n",
    "print(type(test))"
   ]
  },
  {
   "cell_type": "code",
   "execution_count": 30,
   "metadata": {},
   "outputs": [
    {
     "name": "stdout",
     "output_type": "stream",
     "text": [
      "HELLO WORLD\n",
      "HELLO WORLD\n"
     ]
    },
    {
     "data": {
      "text/plain": [
       "True"
      ]
     },
     "execution_count": 30,
     "metadata": {},
     "output_type": "execute_result"
    }
   ],
   "source": [
    "# a와 b를 같게\n",
    "a='Hello world'\n",
    "b=' Hello World '\n",
    "a==b\n",
    "\n",
    "b=b.strip()\n",
    "a= a.upper()\n",
    "b=b.upper()\n",
    "print(a)\n",
    "print(b)\n",
    "a==b"
   ]
  },
  {
   "cell_type": "code",
   "execution_count": 34,
   "metadata": {},
   "outputs": [
    {
     "data": {
      "text/plain": [
       "'HI WORLD'"
      ]
     },
     "execution_count": 34,
     "metadata": {},
     "output_type": "execute_result"
    }
   ],
   "source": [
    "# 특정 문자를 다른 문자로 치환하는 함수\n",
    "# replace({특정문자},{치환할문자})\n",
    "a.replace('HELLO','HI')"
   ]
  },
  {
   "cell_type": "code",
   "execution_count": 40,
   "metadata": {},
   "outputs": [
    {
     "data": {
      "text/plain": [
       "True"
      ]
     },
     "execution_count": 40,
     "metadata": {},
     "output_type": "execute_result"
    }
   ],
   "source": [
    "a='상 품 A'\n",
    "b='상품a'\n",
    "# a변수의 데이터의 문자열 사이의 공백을 제거\n",
    "a=a.replace(' ','')\n",
    "b=b.upper()\n",
    "a==b"
   ]
  },
  {
   "cell_type": "code",
   "execution_count": 41,
   "metadata": {},
   "outputs": [
    {
     "name": "stdout",
     "output_type": "stream",
     "text": [
      "a b c d\n",
      "['a', 'b', 'c', 'd']\n"
     ]
    }
   ],
   "source": [
    "# 특정 문자열을 기준으로 문자열을 나눠주는 함수\n",
    "# split() -> 인자 값을 기본값으로 공백\n",
    "a='a b c d'\n",
    "print(a)\n",
    "print(a.split())"
   ]
  },
  {
   "cell_type": "code",
   "execution_count": 43,
   "metadata": {},
   "outputs": [
    {
     "name": "stdout",
     "output_type": "stream",
     "text": [
      "['1', '2', '3', '4', '5', '6']\n"
     ]
    }
   ],
   "source": [
    "b='1/2/3/4/5/6'\n",
    "print(b.split('/'))"
   ]
  },
  {
   "cell_type": "code",
   "execution_count": 45,
   "metadata": {},
   "outputs": [],
   "source": [
    "sql_data=\"\"\"select * from user\"\"\" # '''부터 '''까지 하나의 문자열이다라고 지정하는 함수"
   ]
  },
  {
   "cell_type": "code",
   "execution_count": 44,
   "metadata": {},
   "outputs": [],
   "source": [
    "sql_data2=\"\"\"insert into user values('test','1234')\"\"\""
   ]
  },
  {
   "cell_type": "code",
   "execution_count": 47,
   "metadata": {},
   "outputs": [
    {
     "data": {
      "text/plain": [
       "['select', '*', 'from', 'user']"
      ]
     },
     "execution_count": 47,
     "metadata": {},
     "output_type": "execute_result"
    }
   ],
   "source": [
    "sql_data.strip().split()"
   ]
  },
  {
   "cell_type": "code",
   "execution_count": 48,
   "metadata": {},
   "outputs": [],
   "source": [
    "_list=[1,2,3,4]"
   ]
  },
  {
   "cell_type": "code",
   "execution_count": 49,
   "metadata": {},
   "outputs": [
    {
     "name": "stdout",
     "output_type": "stream",
     "text": [
      "100\n",
      "None\n"
     ]
    }
   ],
   "source": [
    "test2=_list.reverse()\n",
    "print(test)\n",
    "print(test2)"
   ]
  },
  {
   "cell_type": "code",
   "execution_count": 50,
   "metadata": {},
   "outputs": [
    {
     "data": {
      "text/plain": [
       "True"
      ]
     },
     "execution_count": 50,
     "metadata": {},
     "output_type": "execute_result"
    }
   ],
   "source": [
    "sql_data.strip().split()[0]=='select'"
   ]
  },
  {
   "cell_type": "code",
   "execution_count": 51,
   "metadata": {},
   "outputs": [],
   "source": [
    "sql_data3=\"\"\"select * from user\"\"\""
   ]
  },
  {
   "cell_type": "code",
   "execution_count": 52,
   "metadata": {},
   "outputs": [
    {
     "data": {
      "text/plain": [
       "True"
      ]
     },
     "execution_count": 52,
     "metadata": {},
     "output_type": "execute_result"
    }
   ],
   "source": [
    "sql_data3.lower().strip().split()[0]=='select'"
   ]
  },
  {
   "cell_type": "code",
   "execution_count": 53,
   "metadata": {},
   "outputs": [
    {
     "data": {
      "text/plain": [
       "True"
      ]
     },
     "execution_count": 53,
     "metadata": {},
     "output_type": "execute_result"
    }
   ],
   "source": [
    "sql_data3.lower().strip().startswith('select')"
   ]
  },
  {
   "cell_type": "markdown",
   "metadata": {},
   "source": [
    "# 일반함수\n",
    "- 어떠한 입력값을 가지고 작업을 실행하고 결과물을 되돌려주는 기능"
   ]
  },
  {
   "cell_type": "code",
   "execution_count": 54,
   "metadata": {},
   "outputs": [],
   "source": [
    "def func_1(a,b):\n",
    "    result=a+b\n",
    "    return result\n",
    "\n",
    "def func_2(a,b):\n",
    "    result=a+b\n",
    "    print(result)"
   ]
  },
  {
   "cell_type": "code",
   "execution_count": 57,
   "metadata": {},
   "outputs": [],
   "source": [
    "test=func_1(3,6)"
   ]
  },
  {
   "cell_type": "code",
   "execution_count": 58,
   "metadata": {},
   "outputs": [
    {
     "name": "stdout",
     "output_type": "stream",
     "text": [
      "9\n"
     ]
    }
   ],
   "source": [
    "test2=func_2(3,6)"
   ]
  },
  {
   "cell_type": "code",
   "execution_count": 60,
   "metadata": {},
   "outputs": [
    {
     "name": "stdout",
     "output_type": "stream",
     "text": [
      "9\n",
      "None\n"
     ]
    }
   ],
   "source": [
    "print(test)\n",
    "print(test2) # return이 존재하지않기때문에 결과값이 none으로 출력"
   ]
  },
  {
   "cell_type": "code",
   "execution_count": 61,
   "metadata": {},
   "outputs": [],
   "source": [
    "# 인자의 개수가 가변인 경우 함수 생성\n",
    "def func_3(*args):\n",
    "    print(type(args))\n",
    "    print(args)\n",
    "    print(len(args))"
   ]
  },
  {
   "cell_type": "code",
   "execution_count": 62,
   "metadata": {},
   "outputs": [
    {
     "name": "stdout",
     "output_type": "stream",
     "text": [
      "<class 'tuple'>\n",
      "(1, 2, 3, 4, 5)\n",
      "5\n",
      "<class 'tuple'>\n",
      "(6, 10, 'test')\n",
      "3\n"
     ]
    }
   ],
   "source": [
    "func_3(1,2,3,4,5)\n",
    "func_3(6,10,'test')"
   ]
  },
  {
   "cell_type": "code",
   "execution_count": 76,
   "metadata": {},
   "outputs": [],
   "source": [
    "# 매개변수 2개\n",
    "# 2개의 매개변수 중 작은 값을 되돌려주는 함수\n",
    "def func_4(a,b):\n",
    "    if a < b:\n",
    "        return a\n",
    "    else:\n",
    "        return b"
   ]
  },
  {
   "cell_type": "code",
   "execution_count": 77,
   "metadata": {},
   "outputs": [
    {
     "data": {
      "text/plain": [
       "4"
      ]
     },
     "execution_count": 77,
     "metadata": {},
     "output_type": "execute_result"
    }
   ],
   "source": [
    "func_4(10,4)"
   ]
  },
  {
   "cell_type": "code",
   "execution_count": 78,
   "metadata": {},
   "outputs": [
    {
     "data": {
      "text/plain": [
       "4"
      ]
     },
     "execution_count": 78,
     "metadata": {},
     "output_type": "execute_result"
    }
   ],
   "source": [
    "min(10,5,8,13,4,6)"
   ]
  },
  {
   "cell_type": "markdown",
   "metadata": {},
   "source": [
    "# 함수문제\n",
    "- min() 함수를 똑같이 만들어보자\n",
    "    - 인자의 개수는 가변\n",
    "    - 지역변수 result를 생성하여 인자의 첫 번째 값을 대입\n",
    "    - 각 인자의 값들을 비교하여 가장 작은 값을 지역변수에 대입\n",
    "    - result를 되돌려준다"
   ]
  },
  {
   "cell_type": "code",
   "execution_count": 66,
   "metadata": {},
   "outputs": [],
   "source": [
    "def min(*args):\n",
    "    result=args[0]\n",
    "    for i in args[1:]:\n",
    "        if i < result:\n",
    "            result = i\n",
    "    return result"
   ]
  },
  {
   "cell_type": "code",
   "execution_count": 67,
   "metadata": {},
   "outputs": [
    {
     "name": "stdout",
     "output_type": "stream",
     "text": [
      "1\n"
     ]
    }
   ],
   "source": [
    "print(min(7,5,2,5,1,2))"
   ]
  },
  {
   "cell_type": "code",
   "execution_count": null,
   "metadata": {},
   "outputs": [],
   "source": [
    "# 교수님 정답 CASE1\n",
    "def func_5(*a):\n",
    "    result=a[0]\n",
    "\n",
    "    for i in range(1, len(a),1):\n",
    "        if result>a[i]:\n",
    "            result=a[i]\n",
    "    return result"
   ]
  },
  {
   "cell_type": "code",
   "execution_count": 73,
   "metadata": {},
   "outputs": [],
   "source": [
    "# 교수님 정답 CASE2\n",
    "def func_5(*a):\n",
    "    result=a[0]\n",
    "\n",
    "    for i in a[1:]:\n",
    "        if result>1:\n",
    "            result=i\n",
    "    return result"
   ]
  },
  {
   "cell_type": "code",
   "execution_count": 82,
   "metadata": {},
   "outputs": [
    {
     "data": {
      "text/plain": [
       "3.0"
      ]
     },
     "execution_count": 82,
     "metadata": {},
     "output_type": "execute_result"
    }
   ],
   "source": [
    "# 평균값을 되돌려주는 함수 생성\n",
    "# 인자의 개수는 가변\n",
    "def func_6(*args):\n",
    "    result=0\n",
    "    cnt=0\n",
    "    for i in args:\n",
    "        result += i\n",
    "        cnt += 1\n",
    "    result=result/cnt #result /= cnt로도 사용가능\n",
    "    return result\n",
    "\n",
    "func_6(1,2,3,4,5)"
   ]
  },
  {
   "cell_type": "code",
   "execution_count": 84,
   "metadata": {},
   "outputs": [],
   "source": [
    "# 매개변수 2개를 생성\n",
    "# 첫 번째 매개변수는 최솟값, 평균을 선택하는 변수\n",
    "# 두 번째 매개변수는 인자의 개수가 가변\n",
    "def func_7(flag,*args):\n",
    "    if flag == 'min':\n",
    "        result=args[0]\n",
    "        for i in args[1:]:\n",
    "            if result>i:\n",
    "                result=i\n",
    "    elif flag == 'mean':\n",
    "        result=0\n",
    "        cnt=0\n",
    "        for i in args:\n",
    "            result += i\n",
    "            cnt += 1\n",
    "        result/=cnt\n",
    "    return result\n"
   ]
  },
  {
   "cell_type": "code",
   "execution_count": 85,
   "metadata": {},
   "outputs": [
    {
     "name": "stdout",
     "output_type": "stream",
     "text": [
      "3.0\n",
      "1\n"
     ]
    }
   ],
   "source": [
    "print(func_7('mean',1,2,3,4,5))\n",
    "print(func_7('min',1,2,3,4,5))"
   ]
  },
  {
   "cell_type": "markdown",
   "metadata": {},
   "source": [
    "# class 선언\n",
    "    - class 키워드를 이용하여 class 선언\n",
    "    - class 이름은 일반적으로 첫 문자는 대문자로 표기\n",
    "# class 생성\n",
    "    - 선언이 된 class를 변수에 저장하는 과정\n",
    "# class 변수와 함수를 호출\n",
    "    - class가 저장되어있는 변수안에 변수, 함수를 호출"
   ]
  },
  {
   "cell_type": "code",
   "execution_count": 86,
   "metadata": {},
   "outputs": [],
   "source": [
    "# class 선언\n",
    "class test:\n",
    "    # 생성자 함수(__init__) : class가 생성될때 실행되는 함수\n",
    "    def __init__(self,_a,_b):\n",
    "        # 객체 변수(self변수)를 생성\n",
    "        self.a=_a\n",
    "        self.b=_b"
   ]
  },
  {
   "cell_type": "code",
   "execution_count": 87,
   "metadata": {},
   "outputs": [],
   "source": [
    "# class 생성\n",
    "class_1=test(10,20)"
   ]
  },
  {
   "cell_type": "code",
   "execution_count": 88,
   "metadata": {},
   "outputs": [
    {
     "name": "stdout",
     "output_type": "stream",
     "text": [
      "10\n",
      "20\n"
     ]
    }
   ],
   "source": [
    "# class 안에 있는 변수를 호출\n",
    "print(class_1.a)\n",
    "print(class_1.b)"
   ]
  },
  {
   "cell_type": "code",
   "execution_count": 90,
   "metadata": {},
   "outputs": [
    {
     "name": "stdout",
     "output_type": "stream",
     "text": [
      "10\n",
      "30\n"
     ]
    }
   ],
   "source": [
    "class_2=test(30,40)\n",
    "print(class_1.a)\n",
    "print(class_2.a)"
   ]
  },
  {
   "cell_type": "code",
   "execution_count": 91,
   "metadata": {},
   "outputs": [],
   "source": [
    "# class 선언 : 변수+함수\n",
    "class test2:\n",
    "    def __init__(self,_a,_b):\n",
    "        self.a=_a\n",
    "        self.b=_b\n",
    "    def add(self):\n",
    "        result=self.a+self.b\n",
    "        return result"
   ]
  },
  {
   "cell_type": "code",
   "execution_count": 92,
   "metadata": {},
   "outputs": [],
   "source": [
    "class_1=test2(10,20)\n",
    "class_2=test2(30,40)"
   ]
  },
  {
   "cell_type": "code",
   "execution_count": 93,
   "metadata": {},
   "outputs": [
    {
     "name": "stdout",
     "output_type": "stream",
     "text": [
      "30\n",
      "70\n"
     ]
    }
   ],
   "source": [
    "# class 안에있는 함수를 호출\n",
    "print(class_1.add())\n",
    "print(class_2.add())"
   ]
  },
  {
   "cell_type": "code",
   "execution_count": 95,
   "metadata": {},
   "outputs": [],
   "source": [
    "class test3:\n",
    "    def __init__(self,_a,_b):\n",
    "        self.a=_a\n",
    "        self.b=_b\n",
    "        self.result=0\n",
    "    # 생성된 클래스를 호출할때 실행되는 함수\n",
    "    def __repr__(self):\n",
    "        return str(self.res)\n",
    "    \n",
    "    def add(self):\n",
    "        result=self.a+self.b\n",
    "        return result\n",
    "    \n",
    "    def sub(self):\n",
    "        result=self.a=self.b\n",
    "        self.res=result"
   ]
  },
  {
   "cell_type": "code",
   "execution_count": 96,
   "metadata": {},
   "outputs": [],
   "source": [
    "class_3=test3(10,20)\n",
    "class_4=test3(30,40)"
   ]
  },
  {
   "cell_type": "code",
   "execution_count": 100,
   "metadata": {},
   "outputs": [
    {
     "name": "stdout",
     "output_type": "stream",
     "text": [
      "30\n",
      "70\n"
     ]
    }
   ],
   "source": [
    "print(class_3.add())\n",
    "print(class_4.add())"
   ]
  },
  {
   "cell_type": "code",
   "execution_count": 101,
   "metadata": {},
   "outputs": [
    {
     "name": "stdout",
     "output_type": "stream",
     "text": [
      "None\n",
      "None\n"
     ]
    }
   ],
   "source": [
    "print(class_3.sub())\n",
    "print(class_4.sub())"
   ]
  },
  {
   "cell_type": "code",
   "execution_count": 102,
   "metadata": {},
   "outputs": [
    {
     "name": "stdout",
     "output_type": "stream",
     "text": [
      "20\n",
      "40\n"
     ]
    }
   ],
   "source": [
    "print(class_3)\n",
    "print(class_4)"
   ]
  },
  {
   "cell_type": "code",
   "execution_count": 104,
   "metadata": {},
   "outputs": [],
   "source": [
    "# 클래스 변수가 포함되어있는 class 선언\n",
    "# 클래스 변수 : 같은 class가 생성될때 서로 공유하는 변수\n",
    "# 객체 변수 : class마다 독립적인 데이터를 가지는 변수\n",
    "\n",
    "class test4:\n",
    "    user_list=[]\n",
    "\n",
    "    def __init__(self,_id,_name):\n",
    "        self.id=_id\n",
    "        self.name=_name\n",
    "        self.user_list.append(_id)\n",
    "\n"
   ]
  },
  {
   "cell_type": "code",
   "execution_count": 106,
   "metadata": {},
   "outputs": [
    {
     "name": "stdout",
     "output_type": "stream",
     "text": [
      "test\n",
      "kim\n",
      "['test', 'test']\n"
     ]
    }
   ],
   "source": [
    "user_1=test4('test','kim')\n",
    "print(user_1.id)\n",
    "print(user_1.name)\n",
    "print(user_1.user_list)"
   ]
  },
  {
   "cell_type": "code",
   "execution_count": 107,
   "metadata": {},
   "outputs": [
    {
     "name": "stdout",
     "output_type": "stream",
     "text": [
      "test2\n",
      "park\n",
      "['test', 'test', 'test2']\n"
     ]
    }
   ],
   "source": [
    "user_2=test4('test2','park')\n",
    "print(user_2.id)\n",
    "print(user_2.name)\n",
    "print(user_2.user_list)"
   ]
  },
  {
   "cell_type": "code",
   "execution_count": 108,
   "metadata": {},
   "outputs": [
    {
     "name": "stdout",
     "output_type": "stream",
     "text": [
      "['test', 'test', 'test2']\n"
     ]
    }
   ],
   "source": [
    "print(user_1.user_list)"
   ]
  }
 ],
 "metadata": {
  "kernelspec": {
   "display_name": "Python 3",
   "language": "python",
   "name": "python3"
  },
  "language_info": {
   "codemirror_mode": {
    "name": "ipython",
    "version": 3
   },
   "file_extension": ".py",
   "mimetype": "text/x-python",
   "name": "python",
   "nbconvert_exporter": "python",
   "pygments_lexer": "ipython3",
   "version": "3.12.1"
  }
 },
 "nbformat": 4,
 "nbformat_minor": 2
}
