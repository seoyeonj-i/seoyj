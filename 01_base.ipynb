{
 "cells": [
  {
   "cell_type": "code",
   "execution_count": 1,
   "metadata": {},
   "outputs": [
    {
     "name": "stdout",
     "output_type": "stream",
     "text": [
      "10\n"
     ]
    }
   ],
   "source": [
    "a=10\n",
    "print(a)"
   ]
  },
  {
   "cell_type": "markdown",
   "metadata": {},
   "source": [
    "# 제목1\n",
    "## 제목2\n",
    "### 제목3\n",
    "#### 제목4\n",
    "# 샵을 추가할수록 글자 크기가 작아짐\n",
    "# ctrl + / (주석 자동생성 단축키)"
   ]
  },
  {
   "cell_type": "markdown",
   "metadata": {},
   "source": [
    "#### 순서형 리스트\n",
    "1. list1\n",
    "2. list2\n",
    "3. list3\n",
    "8. list4\n",
    "\n",
    "#### 비순서형 리스트\n",
    "- list1\n",
    "- list2\n",
    "- list3\n",
    "- list4\n",
    "    - sub list1\n",
    "    - sub list2"
   ]
  },
  {
   "cell_type": "code",
   "execution_count": 2,
   "metadata": {},
   "outputs": [],
   "source": [
    "# 변수생성\n",
    "a= 10\n",
    "b = 'test'\n"
   ]
  },
  {
   "cell_type": "code",
   "execution_count": 3,
   "metadata": {},
   "outputs": [
    {
     "name": "stdout",
     "output_type": "stream",
     "text": [
      "10\n",
      "<class 'int'>\n",
      "test\n",
      "<class 'str'>\n"
     ]
    }
   ],
   "source": [
    "print(a)\n",
    "print(type(a))\n",
    "print(b)\n",
    "print(type(b))"
   ]
  },
  {
   "cell_type": "code",
   "execution_count": 4,
   "metadata": {},
   "outputs": [
    {
     "name": "stdout",
     "output_type": "stream",
     "text": [
      "a는 20보다 작거나 같다\n"
     ]
    }
   ],
   "source": [
    "# 조건문\n",
    "# if 조건식 :\n",
    "if a > 20:\n",
    "    print('a는 20보다 크다')\n",
    "else:\n",
    "    print('a는 20보다 작거나 같다')"
   ]
  },
  {
   "cell_type": "code",
   "execution_count": 5,
   "metadata": {},
   "outputs": [
    {
     "name": "stdout",
     "output_type": "stream",
     "text": [
      "75\n",
      "C\n"
     ]
    }
   ],
   "source": [
    "# 조건식이 여러개인 경우\n",
    "score=int(input(\"점수를 입력하시오\"))\n",
    "print(score)\n",
    "\n",
    "if score >=90:\n",
    "    print('A')\n",
    "elif score >=80:\n",
    "    print('B')\n",
    "elif score >=70:\n",
    "    print('C')\n",
    "else:\n",
    "    print('F')"
   ]
  },
  {
   "cell_type": "code",
   "execution_count": 6,
   "metadata": {},
   "outputs": [
    {
     "ename": "IndentationError",
     "evalue": "unexpected indent (1472906918.py, line 3)",
     "output_type": "error",
     "traceback": [
      "\u001b[1;36m  Cell \u001b[1;32mIn[6], line 3\u001b[1;36m\u001b[0m\n\u001b[1;33m    - for 변수명 in range(시작값, 종료값, 증가값)\u001b[0m\n\u001b[1;37m    ^\u001b[0m\n\u001b[1;31mIndentationError\u001b[0m\u001b[1;31m:\u001b[0m unexpected indent\n"
     ]
    }
   ],
   "source": [
    "### 반복문\n",
    "- for문\n",
    "    - for 변수명 in range(시작값, 종료값, 증가값)\n",
    "    - for 변수명 in 자료형데이터(튜플, 리스트)\n",
    "- while문\n",
    "    - 시작값을 지정하고 while 조건식을 이용하여 조건식이 될때까지 반복실행\n",
    "    - 반복 실행 코드에 시작값을 증가시키는 코드를 추가\n",
    "    - break문 이용하여 반복문을 강제종료\n",
    "- break\n",
    "    - 반복문을 강제로 종료\n",
    "- continue\n",
    "    - 반복문으로 되돌아가는 구문"
   ]
  },
  {
   "cell_type": "code",
   "execution_count": null,
   "metadata": {},
   "outputs": [
    {
     "name": "stdout",
     "output_type": "stream",
     "text": [
      "1\n",
      "2\n",
      "3\n",
      "4\n",
      "5\n",
      "6\n",
      "7\n",
      "8\n",
      "9\n"
     ]
    }
   ],
   "source": [
    "## range 함수를 이용한 반복문 생성\n",
    "for i in range(1, 10, 1):\n",
    "    print(i)"
   ]
  },
  {
   "cell_type": "code",
   "execution_count": null,
   "metadata": {},
   "outputs": [
    {
     "name": "stdout",
     "output_type": "stream",
     "text": [
      "[1, 2, 3, 4, 5, 6, 7, 8, 9]\n"
     ]
    }
   ],
   "source": [
    "print(list(range(1,10,1)))"
   ]
  },
  {
   "cell_type": "code",
   "execution_count": null,
   "metadata": {},
   "outputs": [
    {
     "name": "stdout",
     "output_type": "stream",
     "text": [
      "1\n",
      "3\n",
      "5\n",
      "7\n",
      "9\n"
     ]
    }
   ],
   "source": [
    "for i in range(1,10,2):\n",
    "    print(i)"
   ]
  },
  {
   "cell_type": "code",
   "execution_count": null,
   "metadata": {},
   "outputs": [
    {
     "name": "stdout",
     "output_type": "stream",
     "text": [
      "100\n",
      "test\n",
      "True\n"
     ]
    }
   ],
   "source": [
    "## 리스트 형태의 데이터를 이용하여 반복문 생성\n",
    "_list=[100,'test',True]\n",
    "\n",
    "for i in _list:\n",
    "    print(i)"
   ]
  },
  {
   "cell_type": "code",
   "execution_count": null,
   "metadata": {},
   "outputs": [
    {
     "name": "stdout",
     "output_type": "stream",
     "text": [
      "100\n",
      "test\n",
      "True\n"
     ]
    }
   ],
   "source": [
    "for i in range(0, len(_list),1):\n",
    "    print(_list[i])"
   ]
  },
  {
   "cell_type": "code",
   "execution_count": null,
   "metadata": {},
   "outputs": [
    {
     "name": "stdout",
     "output_type": "stream",
     "text": [
      "55\n"
     ]
    }
   ],
   "source": [
    "# 1부터 10까지 합계\n",
    "# 합계라는 변수 생성(초기값은 0으로 대입)\n",
    "result=0\n",
    "\n",
    "for i in range(1,11,1):\n",
    "    result=result + i  #result += i와 같음\n",
    "print(result)"
   ]
  },
  {
   "cell_type": "code",
   "execution_count": null,
   "metadata": {},
   "outputs": [
    {
     "name": "stdout",
     "output_type": "stream",
     "text": [
      "55\n"
     ]
    }
   ],
   "source": [
    "# while문\n",
    "i=1\n",
    "result=0\n",
    "while i <= 10:\n",
    "    result += i\n",
    "    i+=1\n",
    "print(result)"
   ]
  },
  {
   "cell_type": "code",
   "execution_count": null,
   "metadata": {},
   "outputs": [
    {
     "name": "stdout",
     "output_type": "stream",
     "text": [
      "--------2단 시작--------\n",
      "2x1=2|t2x2=4|t2x3=6|t2x4=8|t2x5=10|t2x6=12|t2x7=14|t2x8=16|t2x9=18|t\n",
      "--------2단 종료--------\n",
      "--------3단 시작--------\n",
      "3x1=3|t3x2=6|t3x3=9|t3x4=12|t3x5=15|t3x6=18|t3x7=21|t3x8=24|t3x9=27|t\n",
      "--------3단 종료--------\n",
      "--------4단 시작--------\n",
      "4x1=4|t4x2=8|t4x3=12|t4x4=16|t4x5=20|t4x6=24|t4x7=28|t4x8=32|t4x9=36|t\n",
      "--------4단 종료--------\n",
      "--------5단 시작--------\n",
      "5x1=5|t5x2=10|t5x3=15|t5x4=20|t5x5=25|t5x6=30|t5x7=35|t5x8=40|t5x9=45|t\n",
      "--------5단 종료--------\n",
      "--------6단 시작--------\n",
      "6x1=6|t6x2=12|t6x3=18|t6x4=24|t6x5=30|t6x6=36|t6x7=42|t6x8=48|t6x9=54|t\n",
      "--------6단 종료--------\n",
      "--------7단 시작--------\n",
      "7x1=7|t7x2=14|t7x3=21|t7x4=28|t7x5=35|t7x6=42|t7x7=49|t7x8=56|t7x9=63|t\n",
      "--------7단 종료--------\n",
      "--------8단 시작--------\n",
      "8x1=8|t8x2=16|t8x3=24|t8x4=32|t8x5=40|t8x6=48|t8x7=56|t8x8=64|t8x9=72|t\n",
      "--------8단 종료--------\n",
      "--------9단 시작--------\n",
      "9x1=9|t9x2=18|t9x3=27|t9x4=36|t9x5=45|t9x6=54|t9x7=63|t9x8=72|t9x9=81|t\n",
      "--------9단 종료--------\n"
     ]
    }
   ],
   "source": [
    "# 구구단\n",
    "# 2단부터 9단까지 1~9 곱한 데이터를 출력\n",
    "for i in range(2,10,1):\n",
    "    print(f\"--------{i}단 시작--------\")\n",
    "    for j in range(1,10,1):\n",
    "        print(f'{i}x{j}={i*j}', end='|t')\n",
    "    print(\"\")\n",
    "    print(f\"--------{i}단 종료--------\")"
   ]
  },
  {
   "cell_type": "markdown",
   "metadata": {},
   "source": [
    "# 반복문 예제 문제 (다중 for문)\n",
    "- 페르마의 마지막 정리가 참인가 확인\n",
    "\n",
    "a<sup>n</sup>+b<sup>n</sup>=c<sup>n</sup>이 식에서 n이 2보다 큰 자연수라면 a,b,c,에 들어갈 수있는 자연수는 존재하지 않는다.\n",
    "\n",
    "- n이 3이라 가정하고 a,b,c,에 1부터 10까지의 값들을 넣어서 해댕하는 조건식이 참인 경우가 존재하는가 확인"
   ]
  },
  {
   "cell_type": "code",
   "execution_count": null,
   "metadata": {},
   "outputs": [
    {
     "name": "stdout",
     "output_type": "stream",
     "text": [
      "프로그램 종료\n"
     ]
    }
   ],
   "source": [
    "n = 3\n",
    "_end=10\n",
    "# a가 1부터 10까지 반복하는 반복문을 생성\n",
    "for a in range(1,_end+1,1):\n",
    "    # b가 1부터 10까지 반복하는 반복문 생성\n",
    "    for b in range(1,_end+1,1):\n",
    "        # c가 1부터 10까지 반복하는 반복문 생성\n",
    "        for c in range(1,_end+1,1):\n",
    "            # 마지막정리 공식(a**n+b**n==c**n)이 참인가? 조건문생성\n",
    "            if a**n + b**n == c**n:\n",
    "                # 조건식이 참인경우 a,b,c 출력\n",
    "                print(a,b,c)\n",
    "# 프로그램 종료 출력\n",
    "print(\"프로그램 종료\")"
   ]
  },
  {
   "cell_type": "markdown",
   "metadata": {},
   "source": [
    "# 반복문 문제\n",
    "- 소수인 데이터를 출력하라\n",
    "- 1부터 10까지의 소수만 출력하시오\n",
    "    - 5 -> 2부터 시작해서 4까지 5와 나눠서 나머지가 0이 있는가? 를 확인"
   ]
  },
  {
   "cell_type": "code",
   "execution_count": 8,
   "metadata": {},
   "outputs": [
    {
     "name": "stdout",
     "output_type": "stream",
     "text": [
      "2\n",
      "3\n",
      "5\n",
      "7\n"
     ]
    }
   ],
   "source": [
    "## 2부터 10까지 반복을 하는 반복문을 생성\n",
    "for i in range(2,11,1):\n",
    "## 변수(check)를 생성하여 값을 True\n",
    "    check = True\n",
    "    ## 반복문 생성 2부터 i - 1 까지 반복을 하는 반복문을 생성\n",
    "    for j in range(2, i, 1):\n",
    "        ## 조건식을 생성 i와 j를 나눈 나머지 값이 0인가?\n",
    "        if i % j == 0: \n",
    "            # 조건식이 참이라면 check를 false 변경\n",
    "            check = False\n",
    "    # 조건문을 생성 check가 참인가?\n",
    "    if check == True:\n",
    "        # 참인 경우 i를 출력\n",
    "        print(i)\n",
    "        "
   ]
  },
  {
   "cell_type": "code",
   "execution_count": 7,
   "metadata": {},
   "outputs": [
    {
     "name": "stdout",
     "output_type": "stream",
     "text": [
      "2 3 5 7 11 13 17 19 23 29 31 37 41 43 47 "
     ]
    }
   ],
   "source": [
    "## 2부터 10까지 반복을 하는 반복문을 생성(CASE2 break문 사용)\n",
    "for i in range(2,11,1):\n",
    "## 변수(check)를 생성하여 값을 True\n",
    "    check = True\n",
    "    ## 반복문 생성 2부터 i - 1 까지 반복을 하는 반복문을 생성\n",
    "    for j in range(2, i, 1):\n",
    "        ## 조건식을 생성 i와 j를 나눈 나머지 값이 0인가?\n",
    "        if i % j == 0: \n",
    "            # 조건식이 참이라면 check를 false 변경\n",
    "            check = False\n",
    "            break # 횟수를 줄여주는 과정\n",
    "    # 조건문을 생성 check가 참인가?\n",
    "    if check == True:\n",
    "        # 참인 경우 i를 출력\n",
    "        print(i, end = ' ')"
   ]
  }
 ],
 "metadata": {
  "kernelspec": {
   "display_name": "Python 3",
   "language": "python",
   "name": "python3"
  },
  "language_info": {
   "codemirror_mode": {
    "name": "ipython",
    "version": 3
   },
   "file_extension": ".py",
   "mimetype": "text/x-python",
   "name": "python",
   "nbconvert_exporter": "python",
   "pygments_lexer": "ipython3",
   "version": "3.12.1"
  }
 },
 "nbformat": 4,
 "nbformat_minor": 2
}
