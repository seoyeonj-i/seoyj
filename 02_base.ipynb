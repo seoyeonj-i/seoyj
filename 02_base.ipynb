{
 "cells": [
  {
   "cell_type": "markdown",
   "metadata": {},
   "source": [
    "### 자료형 구조 데이터\n",
    "1. tuple\n",
    "    - 자료형 데이터에서 가장 기본적인 데이터의 형태\n",
    "    - ()로 묶어서 데이터의 형태를 생성\n",
    "    - 각 원소들을 수정, 추가, 삭제가 불가능\n",
    "2. list\n",
    "    - tuple과 달리 각 원소들을 수정, 추가, 삭제가 가능한 데이터의 형태\n",
    "    - []로 묶어서 데이터의 형태를 생성\n",
    "    - 원소의 개수가 0개인 리스트로부터 생성 가능\n",
    "3. dict\n",
    "    - 사전형 데이터 구조\n",
    "    - R에서는 리스트의 형태와 흡사\n",
    "    - {}로 묶어서 데이터의 형태를 생성\n",
    "    - key : value의 형태로 데이터가 구성"
   ]
  },
  {
   "cell_type": "code",
   "execution_count": 1,
   "metadata": {},
   "outputs": [
    {
     "name": "stdout",
     "output_type": "stream",
     "text": [
      "(1, 'hello')\n",
      "<class 'tuple'>\n",
      "(3, 3.14)\n",
      "<class 'tuple'>\n"
     ]
    }
   ],
   "source": [
    "## tuple 데이터\n",
    "a=(1,'hello')\n",
    "b=(3, 3.14)\n",
    "print(a)\n",
    "print(type(a))\n",
    "print(b)\n",
    "print(type(b))"
   ]
  },
  {
   "cell_type": "code",
   "execution_count": 2,
   "metadata": {},
   "outputs": [
    {
     "name": "stdout",
     "output_type": "stream",
     "text": [
      "(1, 'hello', 3, 3.14)\n"
     ]
    }
   ],
   "source": [
    "# tuple의 합\n",
    "c=a+b\n",
    "print(c)"
   ]
  },
  {
   "cell_type": "code",
   "execution_count": 3,
   "metadata": {},
   "outputs": [
    {
     "name": "stdout",
     "output_type": "stream",
     "text": [
      "(1, 'hello', 1, 'hello', 1, 'hello')\n"
     ]
    }
   ],
   "source": [
    "# tuple의 곱\n",
    "d=a*3\n",
    "print(d)"
   ]
  },
  {
   "cell_type": "code",
   "execution_count": 4,
   "metadata": {},
   "outputs": [
    {
     "name": "stdout",
     "output_type": "stream",
     "text": [
      "1\n",
      "3.14\n"
     ]
    }
   ],
   "source": [
    "# 특정 위치의 데이터를 추출\n",
    "print(a[0])\n",
    "print(b[1])"
   ]
  },
  {
   "cell_type": "code",
   "execution_count": 5,
   "metadata": {},
   "outputs": [
    {
     "name": "stdout",
     "output_type": "stream",
     "text": [
      "<class 'list'>\n"
     ]
    }
   ],
   "source": [
    "# list 데이터\n",
    "a=[10,20,40,30]\n",
    "b=[20,10,30,40]\n",
    "print(type(a))"
   ]
  },
  {
   "cell_type": "code",
   "execution_count": 6,
   "metadata": {},
   "outputs": [
    {
     "name": "stdout",
     "output_type": "stream",
     "text": [
      "[10, 20, 30, 40]\n"
     ]
    }
   ],
   "source": [
    "# 리스트의 순서를 변경하는 함수\n",
    "# 오름차순 정렬\n",
    "a.sort()\n",
    "print(a)"
   ]
  },
  {
   "cell_type": "code",
   "execution_count": 7,
   "metadata": {},
   "outputs": [
    {
     "name": "stdout",
     "output_type": "stream",
     "text": [
      "[40, 30, 10, 20]\n"
     ]
    }
   ],
   "source": [
    "# 역순으로 정렬 변경\n",
    "b.reverse()\n",
    "print(b)"
   ]
  },
  {
   "cell_type": "code",
   "execution_count": 8,
   "metadata": {},
   "outputs": [],
   "source": [
    "c=[4,7,2,3,9,1]"
   ]
  },
  {
   "cell_type": "code",
   "execution_count": 9,
   "metadata": {},
   "outputs": [
    {
     "name": "stdout",
     "output_type": "stream",
     "text": [
      "[9, 7, 4, 3, 2, 1]\n"
     ]
    }
   ],
   "source": [
    "# 오름차순 정렬 -> 역순으로 변경 == 내림차순 정렬\n",
    "c.sort()\n",
    "c.reverse()\n",
    "print(c)"
   ]
  },
  {
   "cell_type": "code",
   "execution_count": 10,
   "metadata": {},
   "outputs": [
    {
     "name": "stdout",
     "output_type": "stream",
     "text": [
      "[9, 7, 4, 3, 2, 1]\n"
     ]
    }
   ],
   "source": [
    "# 내림차순 정렬\n",
    "c.sort(reverse=True)\n",
    "print(c)\n",
    "# 함수 확인하고싶으면 함수에 마우스 대고 ctrl 꾹 눌러서 확인"
   ]
  },
  {
   "cell_type": "code",
   "execution_count": 11,
   "metadata": {},
   "outputs": [
    {
     "name": "stdout",
     "output_type": "stream",
     "text": [
      "[10, 20, 30]\n"
     ]
    }
   ],
   "source": [
    "# 리스트의 마지막 원소 제거\n",
    "# pop() 함수 이용\n",
    "a.pop()\n",
    "print(a)"
   ]
  },
  {
   "cell_type": "code",
   "execution_count": 12,
   "metadata": {},
   "outputs": [
    {
     "name": "stdout",
     "output_type": "stream",
     "text": [
      "[40, 30, 10, 20, 22]\n"
     ]
    }
   ],
   "source": [
    "# 리스트의 가장 마지막에 데이터 추가\n",
    "# append() 함수 이용\n",
    "b.append(22)\n",
    "print(b)\n"
   ]
  },
  {
   "cell_type": "code",
   "execution_count": 20,
   "metadata": {},
   "outputs": [
    {
     "name": "stdout",
     "output_type": "stream",
     "text": [
      "[10, 20, 30, 50, 70]\n"
     ]
    }
   ],
   "source": [
    "# 반복문을 이용해서 리스트의 중복데이터를 제거\n",
    "_list=[10,20,30,20,10,50,70]\n",
    "result=[]\n",
    "for i in _list:\n",
    "    #print(i)\n",
    "    # result에 i가 존재하는가? 존재하지 않는다면 result에 i를 추가\n",
    "    # 존재한다면 아무 행동도 하지 않는다\n",
    "    if result.count(i)==0:\n",
    "        result.append(i)\n",
    "print(result)\n",
    "\n",
    "# list->[10,20,20,30]\n",
    "# result->[]\n",
    "# for i in [10,20,20,30]\n",
    "# 반복문은 4번 반복\n",
    "# i=10, result=[]\n",
    "# result.count(10)->0\n",
    "# if 조건식은 참 -> result.append(10)\n",
    "# i=20, result=[10]\n",
    "# result.count(20)->0\n",
    "# if조건식은 참 -> result.append(20)\n",
    "# i=20, result=[10,20]\n",
    "# result.count(20)->1\n",
    "# if조건식은 거짓-> 아무행동도하지않는다\n",
    "# i=30, result=[10,20]\n",
    "# result.conr(30)->0\n",
    "# if조건식은 참 -> result.append(30)\n",
    "# 반복문이 종료\n",
    "# result를 출력 -> [10,20,30]"
   ]
  },
  {
   "cell_type": "code",
   "execution_count": 18,
   "metadata": {},
   "outputs": [
    {
     "name": "stdout",
     "output_type": "stream",
     "text": [
      "0\n",
      "2\n"
     ]
    }
   ],
   "source": [
    "# 원소의 위치 값을 찾아주는 함수\n",
    "# index()\n",
    "#print(_list.index(22)) -> 데이터가 존재하지 않는 경우 에러발생\n",
    "\n",
    "# count()\n",
    "# 데이터가 존재하지 않는 경우\n",
    "print(_list.count(22))\n",
    "# 데이터가 존재하는 경우\n",
    "print(_list.count(20))"
   ]
  },
  {
   "cell_type": "code",
   "execution_count": 23,
   "metadata": {},
   "outputs": [
    {
     "name": "stdout",
     "output_type": "stream",
     "text": [
      "{'name': 'test', 'age': 20, 'phone': '01012345678'}\n"
     ]
    }
   ],
   "source": [
    "# dict 데이터\n",
    "_dict={\n",
    "    'name':'test',\n",
    "    'age':20,\n",
    "    'phone':'01012345678'\n",
    "}\n",
    "print(_dict)"
   ]
  },
  {
   "cell_type": "code",
   "execution_count": 27,
   "metadata": {},
   "outputs": [
    {
     "name": "stdout",
     "output_type": "stream",
     "text": [
      "{'name': 'test', 'age': 20, 'phone': '01012345678', 'loc': 'seoul'}\n"
     ]
    }
   ],
   "source": [
    "# 새로운 키 : 밸류추가\n",
    "_dict['loc']='seoul'\n",
    "print(_dict)"
   ]
  },
  {
   "cell_type": "code",
   "execution_count": 28,
   "metadata": {},
   "outputs": [
    {
     "name": "stdout",
     "output_type": "stream",
     "text": [
      "{'name': 'kim', 'age': 20, 'phone': '01012345678', 'loc': 'seoul'}\n"
     ]
    }
   ],
   "source": [
    "# 기존 키 값의 밸류를 수정하려면\n",
    "_dict['name']='kim'\n",
    "print(_dict)"
   ]
  },
  {
   "cell_type": "code",
   "execution_count": 29,
   "metadata": {},
   "outputs": [
    {
     "name": "stdout",
     "output_type": "stream",
     "text": [
      "[10, 50, 30, 20, 10, 50, 70]\n"
     ]
    }
   ],
   "source": [
    "# list 에서 기존 값 수정\n",
    "_list[1]=50\n",
    "print(_list)"
   ]
  },
  {
   "cell_type": "code",
   "execution_count": 30,
   "metadata": {},
   "outputs": [
    {
     "name": "stdout",
     "output_type": "stream",
     "text": [
      "name\n",
      "age\n",
      "phone\n",
      "loc\n"
     ]
    }
   ],
   "source": [
    "# 키 값 확인\n",
    "for i in _dict:\n",
    "     # i가 의미하는 것은 -> dict 데이터에서 키 값\n",
    "    print(i)\n",
    "\n",
    "#case2 _dict.keys()"
   ]
  },
  {
   "cell_type": "code",
   "execution_count": 32,
   "metadata": {},
   "outputs": [
    {
     "name": "stdout",
     "output_type": "stream",
     "text": [
      "kim\n",
      "20\n",
      "01012345678\n",
      "seoul\n"
     ]
    }
   ],
   "source": [
    "# 밸류 값 확인\n",
    "for i in _dict:\n",
    "    print(_dict[i])\n",
    "\n",
    "# case2 _dict.values()"
   ]
  },
  {
   "cell_type": "code",
   "execution_count": 36,
   "metadata": {},
   "outputs": [
    {
     "name": "stdout",
     "output_type": "stream",
     "text": [
      "kim\n",
      "20\n",
      "01012345678\n",
      "seoul\n"
     ]
    }
   ],
   "source": [
    "for i in _dict.values():\n",
    "    print(i)"
   ]
  },
  {
   "cell_type": "code",
   "execution_count": 37,
   "metadata": {},
   "outputs": [],
   "source": [
    "# openapi, DB에서 데이터를 가지고 오는 경우 데이터의 형태\n",
    "test_data=[\n",
    "    {\n",
    "        'name':'test',\n",
    "        'age':20\n",
    "    },\n",
    "    {\n",
    "        'name':'test2',\n",
    "        'age':30\n",
    "    },\n",
    "    {\n",
    "        'name':'test3',\n",
    "        'age':40\n",
    "    }\n",
    "]"
   ]
  },
  {
   "cell_type": "code",
   "execution_count": 38,
   "metadata": {},
   "outputs": [
    {
     "name": "stdout",
     "output_type": "stream",
     "text": [
      "[{'name': 'test', 'age': 20}, {'name': 'test2', 'age': 30}, {'name': 'test3', 'age': 40}]\n",
      "{'name': 'test', 'age': 20}\n",
      "test\n"
     ]
    }
   ],
   "source": [
    "# test_data에서 'test'라는 문자열을 출력하려면\n",
    "print(test_data)\n",
    "# test 문자열은 리스트에서 첫번째 원소에 존재\n",
    "print(test_data[0])\n",
    "# 'name 키값의 데이터를 출력\n",
    "print(test_data[0]['name'])"
   ]
  },
  {
   "cell_type": "code",
   "execution_count": 42,
   "metadata": {},
   "outputs": [
    {
     "name": "stdout",
     "output_type": "stream",
     "text": [
      "['test', 'test2', 'test3']\n"
     ]
    }
   ],
   "source": [
    "# test_data에서 'name'의 value들만 추출하여 새로운 리스트로 출력 CASE1\n",
    "result=[]\n",
    "result.append(test_data[0]['name'])\n",
    "result.append(test_data[1]['name'])\n",
    "result.append(test_data[2]['name'])\n",
    "print(result)"
   ]
  },
  {
   "cell_type": "code",
   "execution_count": 44,
   "metadata": {},
   "outputs": [
    {
     "name": "stdout",
     "output_type": "stream",
     "text": [
      "['test', 'test2', 'test3']\n"
     ]
    }
   ],
   "source": [
    "# test_data에서 'name'의 value들만 추출하여 새로운 리스트로 출력 CASE2 리스트의 길이를 이용하여 반복문 생성\n",
    "#print(len(test_data))\n",
    "result=[]\n",
    "\n",
    "for i in range(0, len(test_data),1):\n",
    "    # i에 들어오는 데이터가 의미하는 것은->index\n",
    "    result.append(test_data[i]['name'])\n",
    "print(result)"
   ]
  },
  {
   "cell_type": "code",
   "execution_count": 46,
   "metadata": {},
   "outputs": [
    {
     "name": "stdout",
     "output_type": "stream",
     "text": [
      "['test', 'test2', 'test3']\n"
     ]
    }
   ],
   "source": [
    "# test_data에서 'name'의 value들만 추출하여 새로운 리스트로 출력 CASE3\n",
    "result=[]\n",
    "\n",
    "for i in test_data:\n",
    "    #print(i['name'])\n",
    "    result.append(i['name'])\n",
    "\n",
    "print(result)"
   ]
  },
  {
   "cell_type": "code",
   "execution_count": 47,
   "metadata": {},
   "outputs": [
    {
     "name": "stdout",
     "output_type": "stream",
     "text": [
      "['test', 'test2', 'test3']\n"
     ]
    }
   ],
   "source": [
    " # test_data에서 'name'의 value들만 추출하여 새로운 리스트로 출력 CASE4 while구문 이용\n",
    "result=[]\n",
    "i=0\n",
    "\n",
    "while i<len(test_data):\n",
    "    result.append(test_data[i]['name'])\n",
    "    i += 1\n",
    "print(result)"
   ]
  },
  {
   "cell_type": "code",
   "execution_count": 48,
   "metadata": {},
   "outputs": [
    {
     "name": "stdout",
     "output_type": "stream",
     "text": [
      "['test', 'test2', 'test3']\n"
     ]
    }
   ],
   "source": [
    "# try ... except 구문\n",
    "# try:\n",
    "# 시도할 코드 작성\n",
    "# except:\n",
    "# 에러가 발생시 실행할 코드\n",
    "result=[]\n",
    "i=0\n",
    "\n",
    "while True:\n",
    "    try:\n",
    "        result.append(test_data[i]['name'])\n",
    "    except:\n",
    "        break\n",
    "    i += 1\n",
    "print(result)"
   ]
  }
 ],
 "metadata": {
  "kernelspec": {
   "display_name": "Python 3",
   "language": "python",
   "name": "python3"
  },
  "language_info": {
   "codemirror_mode": {
    "name": "ipython",
    "version": 3
   },
   "file_extension": ".py",
   "mimetype": "text/x-python",
   "name": "python",
   "nbconvert_exporter": "python",
   "pygments_lexer": "ipython3",
   "version": "3.12.1"
  }
 },
 "nbformat": 4,
 "nbformat_minor": 2
}
