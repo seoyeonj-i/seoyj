{
 "cells": [
  {
   "cell_type": "code",
   "execution_count": 3,
   "metadata": {},
   "outputs": [],
   "source": [
    "from sklearn.datasets import load_iris\n",
    "from sklearn.naive_bayes import GaussianNB\n",
    "from sklearn.metrics import confusion_matrix, accuracy_score, precision_score, recall_score, f1_score\n",
    "from sklearn.metrics import roc_curve, roc_auc_score\n",
    "from sklearn.model_selection import train_test_split\n",
    "\n",
    "iris = load_iris()\n",
    "X = iris.data\n",
    "y = iris.target\n",
    "\n",
    "X_train , X_test, y_train, y_test = train_test_split(X, y, test_size=0.2, random_state=122)"
   ]
  },
  {
   "cell_type": "code",
   "execution_count": 4,
   "metadata": {},
   "outputs": [],
   "source": [
    "gnb_clf = GaussianNB()\n",
    "gnb_clf.fit(X_train, y_train)\n",
    "pred = gnb_clf.predict(X_test)\n",
    "pred_proba = gnb_clf.predict_proba(X_test)"
   ]
  },
  {
   "cell_type": "code",
   "execution_count": 5,
   "metadata": {},
   "outputs": [
    {
     "data": {
      "text/plain": [
       "array([[ 8,  0,  0],\n",
       "       [ 0, 10,  1],\n",
       "       [ 0,  0, 11]], dtype=int64)"
      ]
     },
     "execution_count": 5,
     "metadata": {},
     "output_type": "execute_result"
    }
   ],
   "source": [
    "result = confusion_matrix(y_test, pred)\n",
    "result"
   ]
  },
  {
   "cell_type": "code",
   "execution_count": 6,
   "metadata": {},
   "outputs": [
    {
     "data": {
      "text/plain": [
       "0.9666666666666667"
      ]
     },
     "execution_count": 6,
     "metadata": {},
     "output_type": "execute_result"
    }
   ],
   "source": [
    "accuracy_score(y_test, pred)"
   ]
  },
  {
   "cell_type": "markdown",
   "metadata": {},
   "source": [
    "precision_score(y_test, pred, average='micro')"
   ]
  },
  {
   "cell_type": "code",
   "execution_count": 7,
   "metadata": {},
   "outputs": [
    {
     "data": {
      "text/plain": [
       "0.9666666666666667"
      ]
     },
     "execution_count": 7,
     "metadata": {},
     "output_type": "execute_result"
    }
   ],
   "source": [
    "recall_score(y_test, pred, average='micro')"
   ]
  },
  {
   "cell_type": "code",
   "execution_count": 8,
   "metadata": {},
   "outputs": [
    {
     "data": {
      "text/plain": [
       "0.9666666666666667"
      ]
     },
     "execution_count": 8,
     "metadata": {},
     "output_type": "execute_result"
    }
   ],
   "source": [
    "f1_score(y_test, pred, average='micro')"
   ]
  },
  {
   "cell_type": "markdown",
   "metadata": {},
   "source": [
    "# sklearn.naive_bayes.MultinomialNB(다항분포모델)\n",
    "### class sklearn.naive_bayes.MultinomialNB(*, alpha=1.0, force_alpha=True, fit_prior=True, class_prior=None)"
   ]
  },
  {
   "cell_type": "code",
   "execution_count": 14,
   "metadata": {},
   "outputs": [],
   "source": [
    "import numpy as np\n",
    "import random\n",
    "\n",
    "random.seed(42)\n",
    "x=np.random.randint(5, size=(7,100))\n",
    "y=np.array([1,2,3,4,5,6,7])"
   ]
  },
  {
   "cell_type": "code",
   "execution_count": 15,
   "metadata": {},
   "outputs": [
    {
     "data": {
      "text/plain": [
       "array([5])"
      ]
     },
     "execution_count": 15,
     "metadata": {},
     "output_type": "execute_result"
    }
   ],
   "source": [
    "from sklearn.naive_bayes import MultinomialNB\n",
    "\n",
    "mlnb_clf=MultinomialNB()\n",
    "mlnb_clf.fit(x,y)\n",
    "x_test=np.array([3, 1, 4, 0, 4, 4, 0, 0, 4, 2, 2, 2, 1, 2, 2, 1, 1, 0, 0, 1, 3, 0,\n",
    "        4, 3, 4, 4, 3, 3, 1, 0, 2, 1, 3, 0, 0, 2, 0, 4, 1, 2, 1, 3, 3, 2,\n",
    "        3, 3, 1, 2, 4, 3, 1, 3, 4, 1, 1, 3, 2, 3, 2, 3, 2, 1, 3, 2, 0, 1,\n",
    "        2, 0, 0, 4, 3, 2, 3, 4, 1, 1, 3, 3, 2, 2, 2, 2, 1, 4, 2, 3, 1, 1,\n",
    "        1, 1, 4, 2, 3, 1, 2, 2, 4, 2, 1, 3]).reshape(1,-1)\n",
    "\n",
    "mlnb_clf.predict(x_test)"
   ]
  },
  {
   "cell_type": "code",
   "execution_count": 12,
   "metadata": {},
   "outputs": [
    {
     "data": {
      "text/plain": [
       "array([[3, 1, 4, 0, 4, 4, 0, 0, 4, 2, 2, 2, 1, 2, 2, 1, 1, 0, 0, 1, 3, 0,\n",
       "        4, 3, 4, 4, 3, 3, 1, 0, 2, 1, 3, 0, 0, 2, 0, 4, 1, 2, 1, 3, 3, 2,\n",
       "        3, 3, 1, 2, 4, 3, 1, 3, 4, 1, 1, 3, 2, 3, 2, 3, 2, 1, 3, 2, 0, 1,\n",
       "        2, 0, 0, 4, 3, 2, 3, 4, 1, 1, 3, 3, 2, 2, 2, 2, 1, 4, 2, 3, 1, 1,\n",
       "        1, 1, 4, 2, 3, 1, 2, 2, 4, 2, 1, 3],\n",
       "       [3, 1, 2, 0, 0, 2, 4, 3, 0, 0, 1, 0, 0, 1, 1, 1, 3, 3, 2, 1, 2, 0,\n",
       "        2, 0, 2, 3, 2, 1, 1, 0, 3, 0, 3, 0, 1, 2, 4, 2, 2, 0, 2, 0, 2, 0,\n",
       "        3, 4, 3, 2, 0, 0, 0, 3, 3, 4, 1, 2, 0, 3, 4, 0, 0, 4, 0, 2, 3, 2,\n",
       "        2, 3, 4, 4, 3, 0, 1, 4, 2, 4, 1, 1, 1, 3, 0, 2, 3, 3, 3, 1, 4, 0,\n",
       "        1, 1, 0, 3, 2, 2, 2, 2, 4, 0, 4, 3],\n",
       "       [4, 4, 1, 1, 3, 1, 4, 1, 0, 3, 1, 4, 0, 4, 2, 3, 1, 0, 0, 2, 0, 3,\n",
       "        0, 4, 4, 2, 1, 2, 1, 2, 4, 4, 1, 1, 1, 1, 1, 3, 4, 0, 3, 0, 2, 0,\n",
       "        2, 3, 4, 3, 3, 4, 4, 3, 3, 0, 1, 3, 2, 2, 1, 0, 2, 3, 4, 2, 4, 3,\n",
       "        1, 2, 4, 2, 4, 3, 3, 2, 0, 4, 3, 2, 1, 0, 1, 1, 1, 3, 2, 0, 0, 4,\n",
       "        2, 3, 3, 4, 1, 3, 1, 1, 2, 4, 2, 4],\n",
       "       [2, 3, 0, 3, 4, 0, 3, 4, 2, 3, 2, 4, 4, 0, 2, 0, 0, 4, 1, 4, 1, 1,\n",
       "        3, 3, 1, 1, 0, 0, 4, 4, 3, 2, 3, 1, 4, 1, 3, 0, 0, 1, 1, 0, 0, 4,\n",
       "        4, 4, 4, 2, 0, 4, 3, 4, 2, 4, 0, 1, 4, 1, 1, 1, 2, 2, 2, 2, 3, 0,\n",
       "        1, 3, 2, 4, 1, 3, 0, 2, 4, 2, 3, 2, 1, 4, 0, 3, 4, 3, 2, 1, 2, 2,\n",
       "        0, 3, 4, 2, 2, 3, 0, 2, 0, 0, 1, 4],\n",
       "       [4, 2, 4, 4, 1, 1, 3, 2, 4, 0, 0, 3, 3, 3, 0, 3, 0, 2, 3, 4, 4, 3,\n",
       "        2, 0, 1, 4, 0, 2, 2, 1, 3, 1, 0, 0, 1, 0, 2, 1, 4, 2, 2, 1, 0, 2,\n",
       "        2, 4, 4, 4, 1, 0, 0, 0, 1, 4, 2, 3, 3, 0, 1, 2, 3, 1, 1, 2, 1, 3,\n",
       "        3, 0, 2, 0, 2, 0, 2, 4, 0, 4, 4, 4, 4, 2, 2, 1, 1, 4, 2, 3, 1, 2,\n",
       "        4, 3, 1, 0, 3, 2, 1, 4, 3, 0, 2, 0],\n",
       "       [3, 2, 3, 2, 1, 0, 0, 3, 3, 4, 3, 4, 4, 3, 4, 3, 3, 2, 4, 1, 2, 4,\n",
       "        2, 4, 0, 2, 1, 4, 0, 0, 0, 1, 2, 2, 2, 1, 2, 1, 3, 4, 3, 0, 4, 4,\n",
       "        4, 3, 3, 1, 1, 1, 4, 0, 3, 2, 1, 4, 3, 4, 4, 0, 2, 0, 3, 4, 2, 4,\n",
       "        1, 2, 3, 1, 1, 3, 0, 4, 4, 0, 2, 1, 4, 1, 3, 0, 4, 4, 2, 2, 3, 3,\n",
       "        3, 3, 1, 2, 3, 4, 4, 3, 3, 3, 3, 1],\n",
       "       [4, 2, 2, 1, 0, 2, 3, 1, 1, 3, 0, 2, 3, 2, 2, 0, 2, 0, 4, 0, 1, 4,\n",
       "        3, 0, 3, 3, 2, 0, 4, 4, 1, 2, 0, 2, 1, 3, 2, 4, 1, 3, 1, 4, 2, 1,\n",
       "        3, 1, 3, 2, 2, 4, 4, 1, 2, 3, 4, 4, 0, 0, 4, 4, 4, 2, 0, 4, 2, 2,\n",
       "        0, 3, 2, 1, 0, 1, 3, 3, 0, 4, 4, 0, 4, 1, 1, 0, 2, 4, 4, 2, 0, 4,\n",
       "        4, 3, 1, 4, 1, 4, 1, 0, 3, 4, 1, 3]])"
      ]
     },
     "execution_count": 12,
     "metadata": {},
     "output_type": "execute_result"
    }
   ],
   "source": [
    "x"
   ]
  },
  {
   "cell_type": "code",
   "execution_count": null,
   "metadata": {},
   "outputs": [],
   "source": []
  }
 ],
 "metadata": {
  "kernelspec": {
   "display_name": "Python 3",
   "language": "python",
   "name": "python3"
  },
  "language_info": {
   "codemirror_mode": {
    "name": "ipython",
    "version": 3
   },
   "file_extension": ".py",
   "mimetype": "text/x-python",
   "name": "python",
   "nbconvert_exporter": "python",
   "pygments_lexer": "ipython3",
   "version": "3.12.1"
  }
 },
 "nbformat": 4,
 "nbformat_minor": 2
}
