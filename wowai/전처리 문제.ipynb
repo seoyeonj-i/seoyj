{
 "cells": [
  {
   "attachments": {},
   "cell_type": "markdown",
   "metadata": {},
   "source": [
    "### 공기의 질을 측정한 데이터\n",
    "1. airquanlity 데이터에 대해서 결측치가 가장 많은 변수를 찾아서 해당 결측치를 0으로 대체하고 결측치를 제외한 평균과 0으로 대치한 후 평균의 차이를 구하시오\n",
    "2. wind 변수에 대해서 Min-Max 정규화를 수행 한 후 평균 값과 Z 정규화를 수행 한 후 평균 값의 차이를 구하시오\n",
    "3. 월별 평균 기온을 구하시오"
   ]
  },
  {
   "cell_type": "code",
   "execution_count": 5,
   "metadata": {},
   "outputs": [],
   "source": [
    "import pandas as pd\n",
    "import numpy as np\n",
    "\n",
    "df=pd.read_csv(\"../../csv/airquality.csv\")\n",
    "\n",
    "missing_values = df.isnull().sum()  # 결측치 개수를 확인합니다.\n",
    "max_missing_var = missing_values.idxmax()  # 결측치가 가장 많은 변수를 찾습니다."
   ]
  },
  {
   "cell_type": "code",
   "execution_count": 6,
   "metadata": {},
   "outputs": [
    {
     "data": {
      "text/plain": [
       "'Ozone'"
      ]
     },
     "execution_count": 6,
     "metadata": {},
     "output_type": "execute_result"
    }
   ],
   "source": [
    "max_missing_var"
   ]
  },
  {
   "cell_type": "code",
   "execution_count": 7,
   "metadata": {},
   "outputs": [
    {
     "name": "stdout",
     "output_type": "stream",
     "text": [
      "결측치를 제외한 평균과 0으로 대체한 후 평균의 차이: 0.0\n"
     ]
    },
    {
     "name": "stderr",
     "output_type": "stream",
     "text": [
      "C:\\Users\\82105\\AppData\\Local\\Temp\\ipykernel_306528\\2351609244.py:2: FutureWarning: A value is trying to be set on a copy of a DataFrame or Series through chained assignment using an inplace method.\n",
      "The behavior will change in pandas 3.0. This inplace method will never work because the intermediate object on which we are setting values always behaves as a copy.\n",
      "\n",
      "For example, when doing 'df[col].method(value, inplace=True)', try using 'df.method({col: value}, inplace=True)' or df[col] = df[col].method(value) instead, to perform the operation inplace on the original object.\n",
      "\n",
      "\n",
      "  df[max_missing_var].fillna(0, inplace=True)\n",
      "C:\\Users\\82105\\AppData\\Local\\Temp\\ipykernel_306528\\2351609244.py:8: FutureWarning: A value is trying to be set on a copy of a DataFrame or Series through chained assignment using an inplace method.\n",
      "The behavior will change in pandas 3.0. This inplace method will never work because the intermediate object on which we are setting values always behaves as a copy.\n",
      "\n",
      "For example, when doing 'df[col].method(value, inplace=True)', try using 'df.method({col: value}, inplace=True)' or df[col] = df[col].method(value) instead, to perform the operation inplace on the original object.\n",
      "\n",
      "\n",
      "  df[max_missing_var].fillna(0, inplace=True)\n"
     ]
    }
   ],
   "source": [
    "# 결측치를 0으로 대체합니다.\n",
    "df[max_missing_var].fillna(0, inplace=True)\n",
    "\n",
    "# 결측치를 제외한 평균을 계산합니다.\n",
    "mean_without_missing = df[max_missing_var].mean()\n",
    "\n",
    "# 0으로 대치한 후 평균을 계산합니다.\n",
    "df[max_missing_var].fillna(0, inplace=True)\n",
    "mean_with_zero = df[max_missing_var].mean()\n",
    "\n",
    "# 평균의 차이를 구합니다.\n",
    "difference_in_means = mean_without_missing - mean_with_zero\n",
    "print(\"결측치를 제외한 평균과 0으로 대체한 후 평균의 차이:\", difference_in_means)"
   ]
  },
  {
   "cell_type": "code",
   "execution_count": 8,
   "metadata": {},
   "outputs": [
    {
     "data": {
      "text/plain": [
       "0.0"
      ]
     },
     "execution_count": 8,
     "metadata": {},
     "output_type": "execute_result"
    }
   ],
   "source": [
    "difference_in_means"
   ]
  },
  {
   "cell_type": "code",
   "execution_count": 10,
   "metadata": {},
   "outputs": [],
   "source": [
    "# 2. wind 변수에 대해서 Min-Max 정규화를 수행한 후 평균 값과 Z 정규화를 수행한 후 평균 값의 차이를 구합니다.\n",
    "# Min-Max 정규화\n",
    "min_val = df['Wind'].min()\n",
    "max_val = df['Wind'].max()\n",
    "df['wind_minmax'] = (df['Wind'] - min_val) / (max_val - min_val)\n",
    "\n",
    "# 평균 값 계산\n",
    "mean_minmax = df['wind_minmax'].mean()\n",
    "\n",
    "# Z 정규화\n",
    "mean = df['Wind'].mean()\n",
    "std_dev = df['Wind'].std()\n",
    "df['wind_z'] = (df['Wind'] - mean) / std_dev"
   ]
  },
  {
   "cell_type": "code",
   "execution_count": 11,
   "metadata": {},
   "outputs": [],
   "source": [
    "# 평균 값 계산\n",
    "mean_z = df['wind_z'].mean()"
   ]
  },
  {
   "cell_type": "code",
   "execution_count": 12,
   "metadata": {},
   "outputs": [
    {
     "name": "stdout",
     "output_type": "stream",
     "text": [
      "Min-Max 정규화와 Z 정규화의 평균 값의 차이: 0.43460612315101477\n"
     ]
    }
   ],
   "source": [
    "# 두 정규화 방법의 평균 값의 차이를 구합니다.\n",
    "difference_in_norm_means = mean_minmax - mean_z\n",
    "print(\"Min-Max 정규화와 Z 정규화의 평균 값의 차이:\", difference_in_norm_means)"
   ]
  },
  {
   "cell_type": "code",
   "execution_count": 14,
   "metadata": {},
   "outputs": [
    {
     "name": "stdout",
     "output_type": "stream",
     "text": [
      "월별 평균 기온:\n",
      " Month\n",
      "1    77.882353\n",
      "Name: Temp, dtype: float64\n"
     ]
    }
   ],
   "source": [
    "# 3. 월별 평균 기온을 구합니다.\n",
    "df['Month'] = pd.to_datetime(df['Day']).dt.month  # 'Date' 컬럼에서 월 정보를 추출합니다.\n",
    "monthly_mean_temp = df.groupby('Month')['Temp'].mean()  # 월별 기온의 평균을 계산합니다.\n",
    "print(\"월별 평균 기온:\\n\", monthly_mean_temp)"
   ]
  },
  {
   "attachments": {},
   "cell_type": "markdown",
   "metadata": {},
   "source": [
    "### 근무자 정보를 측정한 데이터\n",
    "1. Attrition은 퇴사 여부 데이터를 (yes:1, no:0)으로 데이터를 변환하여 새로운 파생변수에 대입하고 범주별 레코드 수를 계산하시오\n",
    "2. 범주형 변수 중 유일한 값을 1개만 가지고 있는 컬럼을 찾아내어 그 컬럼을 데이터에서 제거하시오\n",
    "3. 원래 데이터에서 숫자형인 컬럼만 추출하여 새로운 데이터프레임으로 생성하고, 각 변수간의 상관계수(피어슨 상관계수)를 구하시오"
   ]
  },
  {
   "cell_type": "code",
   "execution_count": 15,
   "metadata": {},
   "outputs": [],
   "source": [
    "df2=pd.read_csv(\"../../csv/HR-Employee-Attrition.csv\")"
   ]
  },
  {
   "cell_type": "code",
   "execution_count": 16,
   "metadata": {},
   "outputs": [
    {
     "name": "stdout",
     "output_type": "stream",
     "text": [
      "퇴사 여부 (1: Yes, 0: No) 레코드 수:\n",
      "Attrition\n",
      "0    1233\n",
      "1     237\n",
      "Name: count, dtype: int64\n",
      "유일한 값을 가진 컬럼 제거 후 데이터 크기: (1470, 32)\n",
      "변수 간의 상관계수:\n",
      "                               Age  Attrition  DailyRate  DistanceFromHome  \\\n",
      "Age                       1.000000  -0.159205   0.010661         -0.001686   \n",
      "Attrition                -0.159205   1.000000  -0.056652          0.077924   \n",
      "DailyRate                 0.010661  -0.056652   1.000000         -0.004985   \n",
      "DistanceFromHome         -0.001686   0.077924  -0.004985          1.000000   \n",
      "Education                 0.208034  -0.031373  -0.016806          0.021042   \n",
      "EmployeeNumber           -0.010145  -0.010577  -0.050990          0.032916   \n",
      "EnvironmentSatisfaction   0.010146  -0.103369   0.018355         -0.016075   \n",
      "HourlyRate                0.024287  -0.006846   0.023381          0.031131   \n",
      "JobInvolvement            0.029820  -0.130016   0.046135          0.008783   \n",
      "JobLevel                  0.509604  -0.169105   0.002966          0.005303   \n",
      "JobSatisfaction          -0.004892  -0.103481   0.030571         -0.003669   \n",
      "MonthlyIncome             0.497855  -0.159840   0.007707         -0.017014   \n",
      "MonthlyRate               0.028051   0.015170  -0.032182          0.027473   \n",
      "NumCompaniesWorked        0.299635   0.043494   0.038153         -0.029251   \n",
      "PercentSalaryHike         0.003634  -0.013478   0.022704          0.040235   \n",
      "PerformanceRating         0.001904   0.002889   0.000473          0.027110   \n",
      "RelationshipSatisfaction  0.053535  -0.045872   0.007846          0.006557   \n",
      "StockOptionLevel          0.037510  -0.137145   0.042143          0.044872   \n",
      "TotalWorkingYears         0.680381  -0.171063   0.014515          0.004628   \n",
      "TrainingTimesLastYear    -0.019621  -0.059478   0.002453         -0.036942   \n",
      "WorkLifeBalance          -0.021490  -0.063939  -0.037848         -0.026556   \n",
      "YearsAtCompany            0.311309  -0.134392  -0.034055          0.009508   \n",
      "YearsInCurrentRole        0.212901  -0.160545   0.009932          0.018845   \n",
      "YearsSinceLastPromotion   0.216513  -0.033019  -0.033229          0.010029   \n",
      "YearsWithCurrManager      0.202089  -0.156199  -0.026363          0.014406   \n",
      "\n",
      "                          Education  EmployeeNumber  EnvironmentSatisfaction  \\\n",
      "Age                        0.208034       -0.010145                 0.010146   \n",
      "Attrition                 -0.031373       -0.010577                -0.103369   \n",
      "DailyRate                 -0.016806       -0.050990                 0.018355   \n",
      "DistanceFromHome           0.021042        0.032916                -0.016075   \n",
      "Education                  1.000000        0.042070                -0.027128   \n",
      "EmployeeNumber             0.042070        1.000000                 0.017621   \n",
      "EnvironmentSatisfaction   -0.027128        0.017621                 1.000000   \n",
      "HourlyRate                 0.016775        0.035179                -0.049857   \n",
      "JobInvolvement             0.042438       -0.006888                -0.008278   \n",
      "JobLevel                   0.101589       -0.018519                 0.001212   \n",
      "JobSatisfaction           -0.011296       -0.046247                -0.006784   \n",
      "MonthlyIncome              0.094961       -0.014829                -0.006259   \n",
      "MonthlyRate               -0.026084        0.012648                 0.037600   \n",
      "NumCompaniesWorked         0.126317       -0.001251                 0.012594   \n",
      "PercentSalaryHike         -0.011111       -0.012944                -0.031701   \n",
      "PerformanceRating         -0.024539       -0.020359                -0.029548   \n",
      "RelationshipSatisfaction  -0.009118       -0.069861                 0.007665   \n",
      "StockOptionLevel           0.018422        0.062227                 0.003432   \n",
      "TotalWorkingYears          0.148280       -0.014365                -0.002693   \n",
      "TrainingTimesLastYear     -0.025100        0.023603                -0.019359   \n",
      "WorkLifeBalance            0.009819        0.010309                 0.027627   \n",
      "YearsAtCompany             0.069114       -0.011240                 0.001458   \n",
      "YearsInCurrentRole         0.060236       -0.008416                 0.018007   \n",
      "YearsSinceLastPromotion    0.054254       -0.009019                 0.016194   \n",
      "YearsWithCurrManager       0.069065       -0.009197                -0.004999   \n",
      "\n",
      "                          HourlyRate  JobInvolvement  JobLevel  ...  \\\n",
      "Age                         0.024287        0.029820  0.509604  ...   \n",
      "Attrition                  -0.006846       -0.130016 -0.169105  ...   \n",
      "DailyRate                   0.023381        0.046135  0.002966  ...   \n",
      "DistanceFromHome            0.031131        0.008783  0.005303  ...   \n",
      "Education                   0.016775        0.042438  0.101589  ...   \n",
      "EmployeeNumber              0.035179       -0.006888 -0.018519  ...   \n",
      "EnvironmentSatisfaction    -0.049857       -0.008278  0.001212  ...   \n",
      "HourlyRate                  1.000000        0.042861 -0.027853  ...   \n",
      "JobInvolvement              0.042861        1.000000 -0.012630  ...   \n",
      "JobLevel                   -0.027853       -0.012630  1.000000  ...   \n",
      "JobSatisfaction            -0.071335       -0.021476 -0.001944  ...   \n",
      "MonthlyIncome              -0.015794       -0.015271  0.950300  ...   \n",
      "MonthlyRate                -0.015297       -0.016322  0.039563  ...   \n",
      "NumCompaniesWorked          0.022157        0.015012  0.142501  ...   \n",
      "PercentSalaryHike          -0.009062       -0.017205 -0.034730  ...   \n",
      "PerformanceRating          -0.002172       -0.029071 -0.021222  ...   \n",
      "RelationshipSatisfaction    0.001330        0.034297  0.021642  ...   \n",
      "StockOptionLevel            0.050263        0.021523  0.013984  ...   \n",
      "TotalWorkingYears          -0.002334       -0.005533  0.782208  ...   \n",
      "TrainingTimesLastYear      -0.008548       -0.015338 -0.018191  ...   \n",
      "WorkLifeBalance            -0.004607       -0.014617  0.037818  ...   \n",
      "YearsAtCompany             -0.019582       -0.021355  0.534739  ...   \n",
      "YearsInCurrentRole         -0.024106        0.008717  0.389447  ...   \n",
      "YearsSinceLastPromotion    -0.026716       -0.024184  0.353885  ...   \n",
      "YearsWithCurrManager       -0.020123        0.025976  0.375281  ...   \n",
      "\n",
      "                          PerformanceRating  RelationshipSatisfaction  \\\n",
      "Age                                0.001904                  0.053535   \n",
      "Attrition                          0.002889                 -0.045872   \n",
      "DailyRate                          0.000473                  0.007846   \n",
      "DistanceFromHome                   0.027110                  0.006557   \n",
      "Education                         -0.024539                 -0.009118   \n",
      "EmployeeNumber                    -0.020359                 -0.069861   \n",
      "EnvironmentSatisfaction           -0.029548                  0.007665   \n",
      "HourlyRate                        -0.002172                  0.001330   \n",
      "JobInvolvement                    -0.029071                  0.034297   \n",
      "JobLevel                          -0.021222                  0.021642   \n",
      "JobSatisfaction                    0.002297                 -0.012454   \n",
      "MonthlyIncome                     -0.017120                  0.025873   \n",
      "MonthlyRate                       -0.009811                 -0.004085   \n",
      "NumCompaniesWorked                -0.014095                  0.052733   \n",
      "PercentSalaryHike                  0.773550                 -0.040490   \n",
      "PerformanceRating                  1.000000                 -0.031351   \n",
      "RelationshipSatisfaction          -0.031351                  1.000000   \n",
      "StockOptionLevel                   0.003506                 -0.045952   \n",
      "TotalWorkingYears                  0.006744                  0.024054   \n",
      "TrainingTimesLastYear             -0.015579                  0.002497   \n",
      "WorkLifeBalance                    0.002572                  0.019604   \n",
      "YearsAtCompany                     0.003435                  0.019367   \n",
      "YearsInCurrentRole                 0.034986                 -0.015123   \n",
      "YearsSinceLastPromotion            0.017896                  0.033493   \n",
      "YearsWithCurrManager               0.022827                 -0.000867   \n",
      "\n",
      "                          StockOptionLevel  TotalWorkingYears  \\\n",
      "Age                               0.037510           0.680381   \n",
      "Attrition                        -0.137145          -0.171063   \n",
      "DailyRate                         0.042143           0.014515   \n",
      "DistanceFromHome                  0.044872           0.004628   \n",
      "Education                         0.018422           0.148280   \n",
      "EmployeeNumber                    0.062227          -0.014365   \n",
      "EnvironmentSatisfaction           0.003432          -0.002693   \n",
      "HourlyRate                        0.050263          -0.002334   \n",
      "JobInvolvement                    0.021523          -0.005533   \n",
      "JobLevel                          0.013984           0.782208   \n",
      "JobSatisfaction                   0.010690          -0.020185   \n",
      "MonthlyIncome                     0.005408           0.772893   \n",
      "MonthlyRate                      -0.034323           0.026442   \n",
      "NumCompaniesWorked                0.030075           0.237639   \n",
      "PercentSalaryHike                 0.007528          -0.020608   \n",
      "PerformanceRating                 0.003506           0.006744   \n",
      "RelationshipSatisfaction         -0.045952           0.024054   \n",
      "StockOptionLevel                  1.000000           0.010136   \n",
      "TotalWorkingYears                 0.010136           1.000000   \n",
      "TrainingTimesLastYear             0.011274          -0.035662   \n",
      "WorkLifeBalance                   0.004129           0.001008   \n",
      "YearsAtCompany                    0.015058           0.628133   \n",
      "YearsInCurrentRole                0.050818           0.460365   \n",
      "YearsSinceLastPromotion           0.014352           0.404858   \n",
      "YearsWithCurrManager              0.024698           0.459188   \n",
      "\n",
      "                          TrainingTimesLastYear  WorkLifeBalance  \\\n",
      "Age                                   -0.019621        -0.021490   \n",
      "Attrition                             -0.059478        -0.063939   \n",
      "DailyRate                              0.002453        -0.037848   \n",
      "DistanceFromHome                      -0.036942        -0.026556   \n",
      "Education                             -0.025100         0.009819   \n",
      "EmployeeNumber                         0.023603         0.010309   \n",
      "EnvironmentSatisfaction               -0.019359         0.027627   \n",
      "HourlyRate                            -0.008548        -0.004607   \n",
      "JobInvolvement                        -0.015338        -0.014617   \n",
      "JobLevel                              -0.018191         0.037818   \n",
      "JobSatisfaction                       -0.005779        -0.019459   \n",
      "MonthlyIncome                         -0.021736         0.030683   \n",
      "MonthlyRate                            0.001467         0.007963   \n",
      "NumCompaniesWorked                    -0.066054        -0.008366   \n",
      "PercentSalaryHike                     -0.005221        -0.003280   \n",
      "PerformanceRating                     -0.015579         0.002572   \n",
      "RelationshipSatisfaction               0.002497         0.019604   \n",
      "StockOptionLevel                       0.011274         0.004129   \n",
      "TotalWorkingYears                     -0.035662         0.001008   \n",
      "TrainingTimesLastYear                  1.000000         0.028072   \n",
      "WorkLifeBalance                        0.028072         1.000000   \n",
      "YearsAtCompany                         0.003569         0.012089   \n",
      "YearsInCurrentRole                    -0.005738         0.049856   \n",
      "YearsSinceLastPromotion               -0.002067         0.008941   \n",
      "YearsWithCurrManager                  -0.004096         0.002759   \n",
      "\n",
      "                          YearsAtCompany  YearsInCurrentRole  \\\n",
      "Age                             0.311309            0.212901   \n",
      "Attrition                      -0.134392           -0.160545   \n",
      "DailyRate                      -0.034055            0.009932   \n",
      "DistanceFromHome                0.009508            0.018845   \n",
      "Education                       0.069114            0.060236   \n",
      "EmployeeNumber                 -0.011240           -0.008416   \n",
      "EnvironmentSatisfaction         0.001458            0.018007   \n",
      "HourlyRate                     -0.019582           -0.024106   \n",
      "JobInvolvement                 -0.021355            0.008717   \n",
      "JobLevel                        0.534739            0.389447   \n",
      "JobSatisfaction                -0.003803           -0.002305   \n",
      "MonthlyIncome                   0.514285            0.363818   \n",
      "MonthlyRate                    -0.023655           -0.012815   \n",
      "NumCompaniesWorked             -0.118421           -0.090754   \n",
      "PercentSalaryHike              -0.035991           -0.001520   \n",
      "PerformanceRating               0.003435            0.034986   \n",
      "RelationshipSatisfaction        0.019367           -0.015123   \n",
      "StockOptionLevel                0.015058            0.050818   \n",
      "TotalWorkingYears               0.628133            0.460365   \n",
      "TrainingTimesLastYear           0.003569           -0.005738   \n",
      "WorkLifeBalance                 0.012089            0.049856   \n",
      "YearsAtCompany                  1.000000            0.758754   \n",
      "YearsInCurrentRole              0.758754            1.000000   \n",
      "YearsSinceLastPromotion         0.618409            0.548056   \n",
      "YearsWithCurrManager            0.769212            0.714365   \n",
      "\n",
      "                          YearsSinceLastPromotion  YearsWithCurrManager  \n",
      "Age                                      0.216513              0.202089  \n",
      "Attrition                               -0.033019             -0.156199  \n",
      "DailyRate                               -0.033229             -0.026363  \n",
      "DistanceFromHome                         0.010029              0.014406  \n",
      "Education                                0.054254              0.069065  \n",
      "EmployeeNumber                          -0.009019             -0.009197  \n",
      "EnvironmentSatisfaction                  0.016194             -0.004999  \n",
      "HourlyRate                              -0.026716             -0.020123  \n",
      "JobInvolvement                          -0.024184              0.025976  \n",
      "JobLevel                                 0.353885              0.375281  \n",
      "JobSatisfaction                         -0.018214             -0.027656  \n",
      "MonthlyIncome                            0.344978              0.344079  \n",
      "MonthlyRate                              0.001567             -0.036746  \n",
      "NumCompaniesWorked                      -0.036814             -0.110319  \n",
      "PercentSalaryHike                       -0.022154             -0.011985  \n",
      "PerformanceRating                        0.017896              0.022827  \n",
      "RelationshipSatisfaction                 0.033493             -0.000867  \n",
      "StockOptionLevel                         0.014352              0.024698  \n",
      "TotalWorkingYears                        0.404858              0.459188  \n",
      "TrainingTimesLastYear                   -0.002067             -0.004096  \n",
      "WorkLifeBalance                          0.008941              0.002759  \n",
      "YearsAtCompany                           0.618409              0.769212  \n",
      "YearsInCurrentRole                       0.548056              0.714365  \n",
      "YearsSinceLastPromotion                  1.000000              0.510224  \n",
      "YearsWithCurrManager                     0.510224              1.000000  \n",
      "\n",
      "[25 rows x 25 columns]\n"
     ]
    }
   ],
   "source": [
    "# 1. Attrition 변수 변환 및 범주별 레코드 수 계산\n",
    "df2['Attrition'] = df2['Attrition'].map({'Yes': 1, 'No': 0})\n",
    "attrition_counts = df2['Attrition'].value_counts()\n",
    "print(\"퇴사 여부 (1: Yes, 0: No) 레코드 수:\")\n",
    "print(attrition_counts)\n",
    "\n",
    "# 2. 유일한 값을 가진 컬럼 제거\n",
    "unique_value_columns = df2.columns[df2.nunique() == 1]\n",
    "df2.drop(columns=unique_value_columns, inplace=True)\n",
    "print(\"유일한 값을 가진 컬럼 제거 후 데이터 크기:\", df2.shape)\n",
    "\n",
    "# 3. 숫자형 변수만 추출하여 상관계수 구하기\n",
    "numeric_data = df2.select_dtypes(include='number')\n",
    "correlation_matrix = numeric_data.corr(method='pearson')\n",
    "print(\"변수 간의 상관계수:\")\n",
    "print(correlation_matrix)"
   ]
  }
 ],
 "metadata": {
  "kernelspec": {
   "display_name": "Python 3",
   "language": "python",
   "name": "python3"
  },
  "language_info": {
   "codemirror_mode": {
    "name": "ipython",
    "version": 3
   },
   "file_extension": ".py",
   "mimetype": "text/x-python",
   "name": "python",
   "nbconvert_exporter": "python",
   "pygments_lexer": "ipython3",
   "version": "3.12.1"
  },
  "orig_nbformat": 4
 },
 "nbformat": 4,
 "nbformat_minor": 2
}
