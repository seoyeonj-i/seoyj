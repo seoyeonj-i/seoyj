{
 "cells": [
  {
   "cell_type": "code",
   "execution_count": 2,
   "metadata": {},
   "outputs": [],
   "source": [
    "import database as db"
   ]
  },
  {
   "cell_type": "code",
   "execution_count": 1,
   "metadata": {},
   "outputs": [
    {
     "data": {
      "text/plain": [
       "['c:\\\\Users\\\\82105\\\\Documents\\\\GitHub\\\\seoyj\\\\python',\n",
       " 'c:\\\\Users\\\\82105\\\\AppData\\\\Local\\\\Programs\\\\Python\\\\Python312\\\\python312.zip',\n",
       " 'c:\\\\Users\\\\82105\\\\AppData\\\\Local\\\\Programs\\\\Python\\\\Python312\\\\DLLs',\n",
       " 'c:\\\\Users\\\\82105\\\\AppData\\\\Local\\\\Programs\\\\Python\\\\Python312\\\\Lib',\n",
       " 'c:\\\\Users\\\\82105\\\\AppData\\\\Local\\\\Programs\\\\Python\\\\Python312',\n",
       " '',\n",
       " 'c:\\\\Users\\\\82105\\\\AppData\\\\Local\\\\Programs\\\\Python\\\\Python312\\\\Lib\\\\site-packages',\n",
       " 'c:\\\\Users\\\\82105\\\\AppData\\\\Local\\\\Programs\\\\Python\\\\Python312\\\\Lib\\\\site-packages\\\\win32',\n",
       " 'c:\\\\Users\\\\82105\\\\AppData\\\\Local\\\\Programs\\\\Python\\\\Python312\\\\Lib\\\\site-packages\\\\win32\\\\lib',\n",
       " 'c:\\\\Users\\\\82105\\\\AppData\\\\Local\\\\Programs\\\\Python\\\\Python312\\\\Lib\\\\site-packages\\\\Pythonwin']"
      ]
     },
     "execution_count": 1,
     "metadata": {},
     "output_type": "execute_result"
    }
   ],
   "source": [
    "import sys\n",
    "sys.path"
   ]
  },
  {
   "cell_type": "code",
   "execution_count": 8,
   "metadata": {},
   "outputs": [],
   "source": [
    "# module 안에 있는 class 생성\n",
    "db1=db.MyDB()"
   ]
  },
  {
   "cell_type": "code",
   "execution_count": 4,
   "metadata": {},
   "outputs": [],
   "source": [
    "sql=\"\"\"select * from user where id=%s and password = %s\"\"\""
   ]
  },
  {
   "cell_type": "code",
   "execution_count": 10,
   "metadata": {},
   "outputs": [
    {
     "data": {
      "text/plain": [
       "[{'id': 'test2', 'password': '1234', 'name': 'park', 'loc': 'busan'}]"
      ]
     },
     "execution_count": 10,
     "metadata": {},
     "output_type": "execute_result"
    }
   ],
   "source": [
    "db1.sql_query(sql,'test2','1234')"
   ]
  },
  {
   "cell_type": "code",
   "execution_count": null,
   "metadata": {},
   "outputs": [],
   "source": [
    "# 라이브러리 로드 한번 하고 이름변경(class mydb->mydb1)해서 재로드할떄 오류남-> 한번밖에안되게 설계됨!\n",
    "# 따라서 라이브러리 리로드 필요\n",
    "# import imp\n",
    "# imp.reload(db)\n",
    "# db2=db.MyDB1()"
   ]
  },
  {
   "cell_type": "markdown",
   "metadata": {},
   "source": [
    "# class의 상속\n",
    "- 부모클래스의 기능은 그대로 유지하고 자식 클래스가 부모 클래스의 기능을 추가하여 사용하기 위한 기능"
   ]
  },
  {
   "cell_type": "markdown",
   "metadata": {},
   "source": [
    "### 부모클래스\n",
    "- 유저의 정보를 등록하는 클래스\n",
    "- 유저의 정보는 이름, 나이, 성별\n",
    "- 클래스 변수 생성하여 등록된 유저의 이름의 목록을 생성\n",
    "- 유저의 정보를 출력하는 함수 생성\n",
    "- 유저의 목록을 출력하는 함수 생성"
   ]
  },
  {
   "cell_type": "code",
   "execution_count": 15,
   "metadata": {},
   "outputs": [],
   "source": [
    "class user:\n",
    "    # 유저의 목록을 담아주기 위한 클래스 변수 생성\n",
    "    user_list=[]\n",
    "\n",
    "    # 클래스 생성시 유저의 정보를 객체 변수에 담기위한 생성자 함수 생성\n",
    "    def __init__(self, _name, _age, _gender):\n",
    "        # 객체변수에 입력값들을 저장\n",
    "        self.name=_name\n",
    "        self.age=_age\n",
    "        self.gender=_gender\n",
    "        # 클래스 변수에 유저의 이름을 추가\n",
    "        self.user_list.append(_name)\n",
    "\n",
    "    # 유저의 정보를 출력하는 함수 생성\n",
    "    def info(self):\n",
    "        return f\"\"\"유저의 이름은 {self.name}이고 나이는 {self.age}세 입니다. 성별은 {self.gender}\"\"\"\n",
    "    # 유저의 목록을 출력하는 함수 생성\n",
    "    def View_list(self):\n",
    "        return self.user_list"
   ]
  },
  {
   "cell_type": "code",
   "execution_count": 16,
   "metadata": {},
   "outputs": [],
   "source": [
    "# 클래스를 생성\n",
    "user1=user('kim',20,'female')"
   ]
  },
  {
   "cell_type": "code",
   "execution_count": 17,
   "metadata": {},
   "outputs": [
    {
     "data": {
      "text/plain": [
       "'유저의 이름은 kim이고 나이는 20세 입니다. 성별은 female'"
      ]
     },
     "execution_count": 17,
     "metadata": {},
     "output_type": "execute_result"
    }
   ],
   "source": [
    "# 클래스 내부의 함수를 호출\n",
    "user1.info()"
   ]
  },
  {
   "cell_type": "code",
   "execution_count": 19,
   "metadata": {},
   "outputs": [
    {
     "data": {
      "text/plain": [
       "['kim']"
      ]
     },
     "execution_count": 19,
     "metadata": {},
     "output_type": "execute_result"
    }
   ],
   "source": [
    "user1.View_list()"
   ]
  },
  {
   "cell_type": "code",
   "execution_count": 20,
   "metadata": {},
   "outputs": [],
   "source": [
    "user2=user('park','25','male')"
   ]
  },
  {
   "cell_type": "code",
   "execution_count": 21,
   "metadata": {},
   "outputs": [
    {
     "data": {
      "text/plain": [
       "'유저의 이름은 park이고 나이는 25세 입니다. 성별은 male'"
      ]
     },
     "execution_count": 21,
     "metadata": {},
     "output_type": "execute_result"
    }
   ],
   "source": [
    "user2.info()"
   ]
  },
  {
   "cell_type": "code",
   "execution_count": 22,
   "metadata": {},
   "outputs": [
    {
     "data": {
      "text/plain": [
       "['kim', 'park']"
      ]
     },
     "execution_count": 22,
     "metadata": {},
     "output_type": "execute_result"
    }
   ],
   "source": [
    "user2.View_list()"
   ]
  },
  {
   "cell_type": "markdown",
   "metadata": {},
   "source": [
    "### 자식 클래스\n",
    "- 클래스의 이름은 wallet\n",
    "- user 클래스를 상속받아서 사용\n",
    "- 지갑의 잔액이라는 객체 변수를 생성, 기본값은 0으로 지정\n",
    "- 구매한 물품의 목록(객체변수생성)\n",
    "- work() 함수 생성\n",
    "    - 매개변수 1개\n",
    "    - 일의 종류에 따라 지갑의 잔액이 증가\n",
    "- buy() 함수 생성\n",
    "    - 매개변수 1개\n",
    "    - 구매하는 상품에 따라 지갑의 잔액이 감소\n",
    "    - 현재 지갑의 잔액보다 구매하려는 물품의 가격이 크다면 '구매 불가' 출력"
   ]
  },
  {
   "cell_type": "code",
   "execution_count": 68,
   "metadata": {},
   "outputs": [],
   "source": [
    "class wallet(user):\n",
    "    # 생성자 함수 : 매개변수는 이름, 나이, 성별, 지갑의 잔액(기본값 0)\n",
    "    def __init__(self,_name,_age,_gender,_balance=0):\n",
    "        # 객체변수를 생성(이름, 나이, 성별, 지갑의잔액, 구매한 물품 목록)\n",
    "        # user class에 있는 객체변수: 이름, 나이, 성별\n",
    "        # wallet class에서 새로 만드는 객체변수: 지갑잔액, 구매한물품, \n",
    "        self.balance=_balance\n",
    "        self.goods=[] #처음에는 물건이 존재하지 않으니 비어있는 리스트로 만들어줌\n",
    "        # 부모 클래스에 있는 생성자 함수 호출\n",
    "        # 부모 클래스 -> super() 함수 사용\n",
    "        super().__init__(_name,_age,_gender)\n",
    "    # 돈을 벌기위해 일을하자 : work()\n",
    "    def work(self,_type):\n",
    "        # 일의 종류에 따라 지갑의 잔액을 증가\n",
    "        # 서비스직 : 2,500,000 / 전문직: 3,000,000 / 분석가: 5,000,000\n",
    "        # case1(if)\n",
    "        if _type =='서비스직':\n",
    "            # 지갑의 잔액을 증가\n",
    "            self.balance += 2500000\n",
    "            result = f\"{_type}의 일을 완료. 현재 잔액은 {self.balance}입니다.\"\n",
    "        elif _type =='전문직':\n",
    "            self.balance += 3000000\n",
    "            result = f\"{_type}의 일을 완료. 현재 잔액은 {self.balance}입니다.\"\n",
    "        elif _type =='분석가':\n",
    "            self.balance += 5000000\n",
    "            result = f\"{_type}의 일을 완료. 현재 잔액은 {self.balance}입니다.\"\n",
    "        else:\n",
    "            result=\"등록되지 않은 일의 종류입니다.\"\n",
    "        return result\n",
    "    # 한번에 주석 처리 -> 드래그하고 ctrl+/\n",
    "    #case2 (dictionary)\n",
    "    # def work2(self,_type):\n",
    "    #     types={'서비스직':2500000, '전문직':3000000, '분석가':5000000}\n",
    "    #     if _type in types.keys():\n",
    "    #         self.balance += types[_type]\n",
    "    #         result = f\"{_type}일을 완료. 현재 잔액은 {self.balance}입니다\"\n",
    "    #     else:\n",
    "    #         result=\"등록되지않은 일의 종류입니다.\"\n",
    "    #     return result\n",
    "    # case3 (try 구문)\n",
    "    def work2(self,_type):\n",
    "        types={'서비스직':2500000, '전문직':3000000, '분석가':5000000}\n",
    "        try:\n",
    "            # 시도한다\n",
    "            self.balance += types[_type]\n",
    "            result=f\"{_type}일을 완료 현재 잔액은 {self.balance}입니다\"\n",
    "        except:\n",
    "            # 에러가 발생한다면\n",
    "            result=\"등록되지않은 일의 종류입니다.\"\n",
    "        return result\n",
    "    # 돈을 쓰는 함수 생성\n",
    "    def buy(self,_type):\n",
    "        # 물건의 종류에 따라 잔액이 감소\n",
    "        # 스탠바이미 : 1,200,000 / 맥북프로 : 2,700,000 / 맥스튜디오 : 11,500,000 / 비전프로 : 5,200,000\n",
    "        types={'스탠바이미':1200000, '맥북프로':2700000, '맥스튜디오':11500000, '비전프로':5200000}\n",
    "        # try + if\n",
    "        try:\n",
    "            # 구매하려는 상품의 가격보다 지갑의 잔액이 크거나 같은 경우\n",
    "            if self.balance >= types[_type]:\n",
    "                # 지갑의 잔액을 물건의 가격만큼 차감\n",
    "                self.balance -= types[_type]\n",
    "                # 구매한 물건 목록에 추가\n",
    "                self.goods.append(_type)\n",
    "                result=f\"{_type}물건 구매완료. 현재 잔액 {self.balance}\"\n",
    "            else:\n",
    "                cost=types[_type]-self.balance\n",
    "                result=f\"구매불가. 금액이 {cost}원 부족합니다. 일을 더 하세요\"\n",
    "        except:\n",
    "            result=\"등록된 물건이 아닙니다.\"\n",
    "\n",
    "        return result\n",
    "    # 오버라이드를 이용하여 info()함수를 변경 -> 코드 다시 재입력하면 덮어씌우기\n",
    "    def info(self):\n",
    "        result=f\"지갑의 주인은 {self.name}이며 나이는 {self.age}이고 지갑의 잔액은 {self.balance}이다\"\n",
    "        return result"
   ]
  },
  {
   "cell_type": "code",
   "execution_count": 69,
   "metadata": {},
   "outputs": [],
   "source": [
    "wallet1=wallet('lee',30,'male')"
   ]
  },
  {
   "cell_type": "code",
   "execution_count": 59,
   "metadata": {},
   "outputs": [],
   "source": [
    "wallet2=wallet('choi',25,'female')"
   ]
  },
  {
   "cell_type": "code",
   "execution_count": 64,
   "metadata": {},
   "outputs": [
    {
     "data": {
      "text/plain": [
       "'구매불가. 금액이 1100000원 부족합니다. 일을 더 하세요'"
      ]
     },
     "execution_count": 64,
     "metadata": {},
     "output_type": "execute_result"
    }
   ],
   "source": [
    "# 잔액이 0원인 상태에서 물건을 구매\n",
    "wallet1.buy('스탠바이미')"
   ]
  },
  {
   "cell_type": "code",
   "execution_count": 61,
   "metadata": {},
   "outputs": [
    {
     "data": {
      "text/plain": [
       "'서비스직일을 완료 현재 잔액은 2500000입니다'"
      ]
     },
     "execution_count": 61,
     "metadata": {},
     "output_type": "execute_result"
    }
   ],
   "source": [
    "# 일을 시작\n",
    "wallet1.work2('서비스직')"
   ]
  },
  {
   "cell_type": "code",
   "execution_count": 65,
   "metadata": {},
   "outputs": [
    {
     "data": {
      "text/plain": [
       "'전문직의 일을 완료. 현재 잔액은 3000000입니다.'"
      ]
     },
     "execution_count": 65,
     "metadata": {},
     "output_type": "execute_result"
    }
   ],
   "source": [
    "wallet2.work('전문직')"
   ]
  },
  {
   "cell_type": "code",
   "execution_count": 70,
   "metadata": {},
   "outputs": [
    {
     "data": {
      "text/plain": [
       "'지갑의 주인은 lee이며 나이는 30이고 지갑의 잔액은 0이다'"
      ]
     },
     "execution_count": 70,
     "metadata": {},
     "output_type": "execute_result"
    }
   ],
   "source": [
    "wallet1.info()"
   ]
  },
  {
   "cell_type": "code",
   "execution_count": 67,
   "metadata": {},
   "outputs": [
    {
     "data": {
      "text/plain": [
       "['kim', 'park', 'lee', 'lee', 'choi', 'lee', 'lee', 'choi']"
      ]
     },
     "execution_count": 67,
     "metadata": {},
     "output_type": "execute_result"
    }
   ],
   "source": [
    "wallet1.View_list()"
   ]
  },
  {
   "cell_type": "code",
   "execution_count": 26,
   "metadata": {},
   "outputs": [
    {
     "name": "stdout",
     "output_type": "stream",
     "text": [
      "lee\n",
      "male\n",
      "0\n",
      "[]\n",
      "30\n",
      "['kim', 'park', 'lee']\n"
     ]
    }
   ],
   "source": [
    "# wallet1 안에있는 변수들을 호출\n",
    "print(wallet1.name)\n",
    "print(wallet1.gender)\n",
    "print(wallet1.balance)\n",
    "print(wallet1.goods)\n",
    "print(wallet1.age)\n",
    "print(wallet1.user_list)"
   ]
  }
 ],
 "metadata": {
  "kernelspec": {
   "display_name": "Python 3",
   "language": "python",
   "name": "python3"
  },
  "language_info": {
   "codemirror_mode": {
    "name": "ipython",
    "version": 3
   },
   "file_extension": ".py",
   "mimetype": "text/x-python",
   "name": "python",
   "nbconvert_exporter": "python",
   "pygments_lexer": "ipython3",
   "version": "3.12.1"
  }
 },
 "nbformat": 4,
 "nbformat_minor": 2
}
